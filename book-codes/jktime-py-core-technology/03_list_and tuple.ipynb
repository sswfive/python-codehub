{
 "cells": [
  {
   "cell_type": "markdown",
   "id": "87fe5407-f951-4577-ac42-30ce8cacedd3",
   "metadata": {},
   "source": [
    "## list\n",
    "- 列表是动态"
   ]
  },
  {
   "cell_type": "code",
   "execution_count": 1,
   "id": "e305e5e5-8073-4c1d-a836-3958e04ad3cf",
   "metadata": {},
   "outputs": [
    {
     "data": {
      "text/plain": [
       "[1, 2, 'hello', 'world']"
      ]
     },
     "execution_count": 1,
     "metadata": {},
     "output_type": "execute_result"
    }
   ],
   "source": [
    "l = [1, 2, 'hello', 'world']\n",
    "l"
   ]
  },
  {
   "cell_type": "code",
   "execution_count": 11,
   "id": "5c4682e5-6c51-4431-be68-12a7b6cca303",
   "metadata": {},
   "outputs": [
    {
     "data": {
      "text/plain": [
       "4"
      ]
     },
     "execution_count": 11,
     "metadata": {},
     "output_type": "execute_result"
    }
   ],
   "source": [
    "a = [1, 2, 3, 4]\n",
    "a[3]\n",
    "# a[-1]"
   ]
  },
  {
   "cell_type": "code",
   "execution_count": 5,
   "id": "5721e17f-b313-4112-8cdb-c70342cfe365",
   "metadata": {},
   "outputs": [
    {
     "data": {
      "text/plain": [
       "[1, 2, 30, 4]"
      ]
     },
     "execution_count": 5,
     "metadata": {},
     "output_type": "execute_result"
    }
   ],
   "source": [
    "a[2] = 30\n",
    "a"
   ]
  },
  {
   "cell_type": "code",
   "execution_count": 9,
   "id": "6dfe3473-9043-4800-8458-1d6da85a9fef",
   "metadata": {},
   "outputs": [
    {
     "data": {
      "text/plain": [
       "[1, 2, 30, 4, 8]"
      ]
     },
     "execution_count": 9,
     "metadata": {},
     "output_type": "execute_result"
    }
   ],
   "source": [
    "a.append(8)\n",
    "a"
   ]
  },
  {
   "cell_type": "code",
   "execution_count": 12,
   "id": "7254def6-f93e-4901-b6a7-c420dd671834",
   "metadata": {},
   "outputs": [
    {
     "data": {
      "text/plain": [
       "(1, 2, 3, 4)"
      ]
     },
     "execution_count": 12,
     "metadata": {},
     "output_type": "execute_result"
    }
   ],
   "source": [
    "tuple(a)"
   ]
  },
  {
   "cell_type": "code",
   "execution_count": 15,
   "id": "f5267a73-8ec8-418c-83ac-b1c3c0b56900",
   "metadata": {},
   "outputs": [
    {
     "data": {
      "text/plain": [
       "2"
      ]
     },
     "execution_count": 15,
     "metadata": {},
     "output_type": "execute_result"
    }
   ],
   "source": [
    "l1 = [3,2,3,7,8,1]\n",
    "l1.count(3)"
   ]
  },
  {
   "cell_type": "code",
   "execution_count": 16,
   "id": "b19aa5fb-9334-4811-94c5-8f2d092af4f3",
   "metadata": {},
   "outputs": [
    {
     "data": {
      "text/plain": [
       "4"
      ]
     },
     "execution_count": 16,
     "metadata": {},
     "output_type": "execute_result"
    }
   ],
   "source": [
    "l1.index(8)"
   ]
  },
  {
   "cell_type": "code",
   "execution_count": 17,
   "id": "5b4a66d4-3b6a-4800-b628-f78537e54c4d",
   "metadata": {},
   "outputs": [
    {
     "data": {
      "text/plain": [
       "88"
      ]
     },
     "execution_count": 17,
     "metadata": {},
     "output_type": "execute_result"
    }
   ],
   "source": [
    "l1.__sizeof__()"
   ]
  },
  {
   "cell_type": "markdown",
   "id": "7f0a9685-a2e5-4f3e-86f6-2455fa9e7ad9",
   "metadata": {},
   "source": [
    "## tuple\n",
    "- 元组是静态的"
   ]
  },
  {
   "cell_type": "code",
   "execution_count": 2,
   "id": "2b7a85b6-cedf-4e8f-9ae9-cc600d358235",
   "metadata": {},
   "outputs": [
    {
     "data": {
      "text/plain": [
       "('jason', 22)"
      ]
     },
     "execution_count": 2,
     "metadata": {},
     "output_type": "execute_result"
    }
   ],
   "source": [
    "tup = ('jason', 22)\n",
    "tup"
   ]
  },
  {
   "cell_type": "code",
   "execution_count": 7,
   "id": "4e8dbb6a-7199-4611-a671-ef5ffbc82e13",
   "metadata": {},
   "outputs": [],
   "source": [
    "# tup[2] = 5  # 元组不可变"
   ]
  },
  {
   "cell_type": "code",
   "execution_count": 8,
   "id": "5b3600b9-1f35-42c4-8a4a-03ca2a6c0f3b",
   "metadata": {},
   "outputs": [
    {
     "data": {
      "text/plain": [
       "('jason', 22, 3)"
      ]
     },
     "execution_count": 8,
     "metadata": {},
     "output_type": "execute_result"
    }
   ],
   "source": [
    "new_tup = tup + (3, )  # 创建新元组，并依次填充原元组的值\n",
    "new_tup"
   ]
  },
  {
   "cell_type": "code",
   "execution_count": 13,
   "id": "e0189c28-6f07-4c5e-86c7-5ebe845f0124",
   "metadata": {},
   "outputs": [
    {
     "data": {
      "text/plain": [
       "['jason', 22]"
      ]
     },
     "execution_count": 13,
     "metadata": {},
     "output_type": "execute_result"
    }
   ],
   "source": [
    "list(tup)"
   ]
  },
  {
   "cell_type": "code",
   "execution_count": 19,
   "id": "68b1948f-d132-443c-9434-37a0f5954a4e",
   "metadata": {},
   "outputs": [
    {
     "data": {
      "text/plain": [
       "72"
      ]
     },
     "execution_count": 19,
     "metadata": {},
     "output_type": "execute_result"
    }
   ],
   "source": [
    "t1 = (3,2,3,7,8,1)\n",
    "t1.__sizeof__()"
   ]
  },
  {
   "cell_type": "code",
   "execution_count": null,
   "id": "a78c81cb-8e0c-46e6-80f0-3c4bca26f50d",
   "metadata": {},
   "outputs": [],
   "source": []
  },
  {
   "cell_type": "code",
   "execution_count": null,
   "id": "65394e38-b985-4cb3-821c-cee65c1460ad",
   "metadata": {},
   "outputs": [],
   "source": []
  }
 ],
 "metadata": {
  "kernelspec": {
   "display_name": "Python 3 (ipykernel)",
   "language": "python",
   "name": "python3"
  },
  "language_info": {
   "codemirror_mode": {
    "name": "ipython",
    "version": 3
   },
   "file_extension": ".py",
   "mimetype": "text/x-python",
   "name": "python",
   "nbconvert_exporter": "python",
   "pygments_lexer": "ipython3",
   "version": "3.8.13"
  },
  "toc-autonumbering": false
 },
 "nbformat": 4,
 "nbformat_minor": 5
}
