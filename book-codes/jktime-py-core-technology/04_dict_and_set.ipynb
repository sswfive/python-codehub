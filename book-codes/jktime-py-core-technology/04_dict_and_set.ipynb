{
 "cells": [
  {
   "cell_type": "markdown",
   "id": "3c690590-e5c9-4b1e-a1bb-ab9cd3e74943",
   "metadata": {},
   "source": [
    "## 字典和集合的创建"
   ]
  },
  {
   "cell_type": "code",
   "execution_count": 2,
   "id": "4192270c-b523-401c-91ed-a21443809249",
   "metadata": {},
   "outputs": [
    {
     "data": {
      "text/plain": [
       "True"
      ]
     },
     "execution_count": 2,
     "metadata": {},
     "output_type": "execute_result"
    }
   ],
   "source": [
    "d1 = {'name': 'jason', 'age': 18, 'gender': 'male'}\n",
    "d2 = dict({'name': 'jason', 'age': 18, 'gender': 'male'})\n",
    "d3 = dict([('name', 'jason'), ('age', 18), ('gender', 'male')])\n",
    "d4 = dict(name='jason', age=18, gender='male')\n",
    "d1 == d2 == d3 ==d4"
   ]
  },
  {
   "cell_type": "code",
   "execution_count": 3,
   "id": "fc1745e2-cd1c-49d0-a09b-4ffe6b060b5b",
   "metadata": {},
   "outputs": [
    {
     "data": {
      "text/plain": [
       "True"
      ]
     },
     "execution_count": 3,
     "metadata": {},
     "output_type": "execute_result"
    }
   ],
   "source": [
    "s1 = {1, 2, 3}\n",
    "s2 = set([1,2,3])\n",
    "s1 == s2"
   ]
  },
  {
   "cell_type": "markdown",
   "id": "f29ca25c-ffb0-4973-95ee-e144f7fa17ef",
   "metadata": {},
   "source": [
    "## 元素访问"
   ]
  },
  {
   "cell_type": "markdown",
   "id": "8bbe0d19-d1b8-404d-9e5d-0b21f9548326",
   "metadata": {},
   "source": [
    "### 字典的访问"
   ]
  },
  {
   "cell_type": "code",
   "execution_count": 4,
   "id": "6bc4dd7c-376a-4cfc-b3de-95f42f2b826f",
   "metadata": {},
   "outputs": [
    {
     "data": {
      "text/plain": [
       "'jason'"
      ]
     },
     "execution_count": 4,
     "metadata": {},
     "output_type": "execute_result"
    }
   ],
   "source": [
    "d = {'name': 'jason', 'age': 18}\n",
    "d['name']"
   ]
  },
  {
   "cell_type": "code",
   "execution_count": 6,
   "id": "5d07d0be-4021-41d5-aa00-295ef4dd8335",
   "metadata": {},
   "outputs": [],
   "source": [
    "# d['dd']  # 访问不存在的key会报错"
   ]
  },
  {
   "cell_type": "code",
   "execution_count": 7,
   "id": "84eecf2d-7dc7-4727-86f7-d9e585590bcf",
   "metadata": {},
   "outputs": [
    {
     "data": {
      "text/plain": [
       "18"
      ]
     },
     "execution_count": 7,
     "metadata": {},
     "output_type": "execute_result"
    }
   ],
   "source": [
    "d.get('age')"
   ]
  },
  {
   "cell_type": "code",
   "execution_count": 10,
   "id": "6c7a49a4-8fe7-4537-9372-c33c736f21f3",
   "metadata": {},
   "outputs": [
    {
     "data": {
      "text/plain": [
       "'t'"
      ]
     },
     "execution_count": 10,
     "metadata": {},
     "output_type": "execute_result"
    }
   ],
   "source": [
    "d.get('dd', 't')  # 访问不存在的key，返回默认值t"
   ]
  },
  {
   "cell_type": "code",
   "execution_count": 16,
   "id": "b5c5150a-b1fa-410f-b593-616e8bfcbfb2",
   "metadata": {},
   "outputs": [
    {
     "data": {
      "text/plain": [
       "True"
      ]
     },
     "execution_count": 16,
     "metadata": {},
     "output_type": "execute_result"
    }
   ],
   "source": [
    "'name' in d  # 判断key是否在字典内"
   ]
  },
  {
   "cell_type": "code",
   "execution_count": 17,
   "id": "38ef882f-2a7e-4d1d-8be8-d304d99d3d42",
   "metadata": {},
   "outputs": [
    {
     "data": {
      "text/plain": [
       "False"
      ]
     },
     "execution_count": 17,
     "metadata": {},
     "output_type": "execute_result"
    }
   ],
   "source": [
    "'dd' in d"
   ]
  },
  {
   "cell_type": "markdown",
   "id": "ac27984b-b6f0-452c-a13b-c699efd89415",
   "metadata": {},
   "source": [
    "### 集合的访问"
   ]
  },
  {
   "cell_type": "code",
   "execution_count": 18,
   "id": "c0d32ced-553d-4c43-88ab-4cd16abb5494",
   "metadata": {},
   "outputs": [],
   "source": [
    "s1 = {1, 2, 3}\n",
    "# s[0]   # 集合不支持索引操作"
   ]
  },
  {
   "cell_type": "code",
   "execution_count": 14,
   "id": "caf6293b-867d-4383-9250-16c02d06f515",
   "metadata": {},
   "outputs": [
    {
     "data": {
      "text/plain": [
       "True"
      ]
     },
     "execution_count": 14,
     "metadata": {},
     "output_type": "execute_result"
    }
   ],
   "source": [
    "1 in s1"
   ]
  },
  {
   "cell_type": "code",
   "execution_count": 15,
   "id": "fb053557-5593-435b-99ec-8c6701c8b49c",
   "metadata": {},
   "outputs": [
    {
     "data": {
      "text/plain": [
       "False"
      ]
     },
     "execution_count": 15,
     "metadata": {},
     "output_type": "execute_result"
    }
   ],
   "source": [
    "5 in s1"
   ]
  },
  {
   "cell_type": "markdown",
   "id": "d32edded-9fb6-4b9c-ad4d-50a6f5573554",
   "metadata": {},
   "source": [
    "## 元素的增加、修改、删除"
   ]
  },
  {
   "cell_type": "code",
   "execution_count": 58,
   "id": "74f51539-ae01-4e20-bc16-4e1419211c2f",
   "metadata": {},
   "outputs": [
    {
     "data": {
      "text/plain": [
       "{'address': 'anhui', 'name': 'jason', 'age': 18}"
      ]
     },
     "execution_count": 58,
     "metadata": {},
     "output_type": "execute_result"
    }
   ],
   "source": [
    "d = {'name': 'jason', 'age': 18}\n",
    "d1 = {'address':'anhui', **d}  # python3.7 新增特性\n",
    "d['gender'] = 'male'"
   ]
  },
  {
   "cell_type": "code",
   "execution_count": 59,
   "id": "b11fba75-7e8a-427d-8b74-154764f1012b",
   "metadata": {},
   "outputs": [
    {
     "data": {
      "text/plain": [
       "{'name': 'jason', 'age': 18, 'gender': 'male'}"
      ]
     },
     "execution_count": 59,
     "metadata": {},
     "output_type": "execute_result"
    }
   ],
   "source": [
    "d"
   ]
  },
  {
   "cell_type": "code",
   "execution_count": 60,
   "id": "fc2bf4ff-2eaf-4cb8-9ead-e072a02b4e29",
   "metadata": {},
   "outputs": [
    {
     "data": {
      "text/plain": [
       "{'address': 'anhui', 'name': 'jason', 'age': 18}"
      ]
     },
     "execution_count": 60,
     "metadata": {},
     "output_type": "execute_result"
    }
   ],
   "source": [
    "d1"
   ]
  },
  {
   "cell_type": "code",
   "execution_count": 20,
   "id": "7dbd37c1-b3ba-40ef-b40d-56648c350f9f",
   "metadata": {},
   "outputs": [
    {
     "data": {
      "text/plain": [
       "'male'"
      ]
     },
     "execution_count": 20,
     "metadata": {},
     "output_type": "execute_result"
    }
   ],
   "source": [
    "d.pop('gender')"
   ]
  },
  {
   "cell_type": "code",
   "execution_count": 21,
   "id": "d5b2c0bf-3b8f-4659-83a6-e90f2dff752f",
   "metadata": {},
   "outputs": [
    {
     "data": {
      "text/plain": [
       "{'name': 'jason', 'age': 18}"
      ]
     },
     "execution_count": 21,
     "metadata": {},
     "output_type": "execute_result"
    }
   ],
   "source": [
    "d"
   ]
  },
  {
   "cell_type": "code",
   "execution_count": 28,
   "id": "fa633295-4f94-437c-b4f3-f62bf7f7d781",
   "metadata": {},
   "outputs": [
    {
     "data": {
      "text/plain": [
       "{1, 2, 3, 5}"
      ]
     },
     "execution_count": 28,
     "metadata": {},
     "output_type": "execute_result"
    }
   ],
   "source": [
    "s = {1, 2, 3}\n",
    "s.add(5)\n",
    "s"
   ]
  },
  {
   "cell_type": "code",
   "execution_count": 29,
   "id": "f30b0ad9-5d98-4fc4-9a47-6f3789afc0ef",
   "metadata": {},
   "outputs": [
    {
     "data": {
      "text/plain": [
       "{1, 2, 3}"
      ]
     },
     "execution_count": 29,
     "metadata": {},
     "output_type": "execute_result"
    }
   ],
   "source": [
    "s.remove(5)\n",
    "s"
   ]
  },
  {
   "cell_type": "markdown",
   "id": "57b22c0e-ce91-4dc0-a0b0-63f8dae64fea",
   "metadata": {},
   "source": [
    "## 排序"
   ]
  },
  {
   "cell_type": "code",
   "execution_count": 30,
   "id": "199e4a60-0a2d-4339-a2d9-50c2dc180fd8",
   "metadata": {},
   "outputs": [],
   "source": [
    "d = {'b': 1, 'a': 2, 'c': 10}\n",
    "d_sorted_by_key = sorted(d.items(), key=lambda x: x[0])\n",
    "d_sorted_by_value = sorted(d.items(), key=lambda x: x[1])"
   ]
  },
  {
   "cell_type": "code",
   "execution_count": 31,
   "id": "4e33c90a-2d56-4753-a718-7d78d9078f79",
   "metadata": {},
   "outputs": [
    {
     "data": {
      "text/plain": [
       "[('a', 2), ('b', 1), ('c', 10)]"
      ]
     },
     "execution_count": 31,
     "metadata": {},
     "output_type": "execute_result"
    }
   ],
   "source": [
    "d_sorted_by_key"
   ]
  },
  {
   "cell_type": "code",
   "execution_count": 32,
   "id": "d067995a-0e23-45c6-ba2a-7db0c58a71a5",
   "metadata": {},
   "outputs": [
    {
     "data": {
      "text/plain": [
       "[('b', 1), ('a', 2), ('c', 10)]"
      ]
     },
     "execution_count": 32,
     "metadata": {},
     "output_type": "execute_result"
    }
   ],
   "source": [
    "d_sorted_by_value"
   ]
  },
  {
   "cell_type": "code",
   "execution_count": 33,
   "id": "5ef65826-9edf-4390-a4cc-6759fe0b3908",
   "metadata": {},
   "outputs": [
    {
     "data": {
      "text/plain": [
       "[1, 2, 3, 5]"
      ]
     },
     "execution_count": 33,
     "metadata": {},
     "output_type": "execute_result"
    }
   ],
   "source": [
    "s = {3, 5, 2, 1}\n",
    "sorted(s)"
   ]
  },
  {
   "cell_type": "markdown",
   "id": "24640321-3e41-46c6-84f2-e106277d13d2",
   "metadata": {},
   "source": [
    "## 性能"
   ]
  },
  {
   "cell_type": "code",
   "execution_count": 38,
   "id": "620d22d0-e25b-46b7-bdc4-5c5e94826dd8",
   "metadata": {},
   "outputs": [],
   "source": [
    "def find_product_price(products, product_id):\n",
    "    for id, price in products:\n",
    "        if id == product_id:\n",
    "            return price\n",
    "    return None"
   ]
  },
  {
   "cell_type": "code",
   "execution_count": 39,
   "id": "0107ed93-1393-412f-b46b-4cfebea8cf82",
   "metadata": {},
   "outputs": [],
   "source": [
    "products1 = [ (143121312, 100), (432314553, 30), (32421912367, 150) ]\n",
    "products2 = { 143121312: 100, 432314553: 30, 32421912367: 150}"
   ]
  },
  {
   "cell_type": "code",
   "execution_count": 42,
   "id": "07f8946d-af00-42eb-acc0-d72ac5e328d4",
   "metadata": {},
   "outputs": [
    {
     "name": "stdout",
     "output_type": "stream",
     "text": [
      "The price of product 432314553 is 30\n",
      "The price of product 432314553 is 30\n"
     ]
    }
   ],
   "source": [
    "print('The price of product 432314553 is {}'.format(find_product_price(products1, 432314553)))\n",
    "print('The price of product 432314553 is {}'.format(products2[432314553]))"
   ]
  },
  {
   "cell_type": "code",
   "execution_count": 43,
   "id": "e180343b-098c-447f-a7bf-b3aa143ed78b",
   "metadata": {},
   "outputs": [
    {
     "name": "stdout",
     "output_type": "stream",
     "text": [
      "number of unique price is: 3\n"
     ]
    }
   ],
   "source": [
    "\n",
    "# list version\n",
    "def find_unique_price_using_list(products):\n",
    "    unique_price_list = []\n",
    "    for _, price in products: # A\n",
    "        if price not in unique_price_list: #B\n",
    "            unique_price_list.append(price)\n",
    "    return len(unique_price_list)\n",
    "\n",
    "products = [\n",
    "    (143121312, 100), \n",
    "    (432314553, 30),\n",
    "    (32421912367, 150),\n",
    "    (937153201, 30)\n",
    "]\n",
    "print('number of unique price is: {}'.format(find_unique_price_using_list(products)))\n"
   ]
  },
  {
   "cell_type": "code",
   "execution_count": 44,
   "id": "fbc26616-c21d-4b34-bdbe-fb205b764a79",
   "metadata": {},
   "outputs": [
    {
     "name": "stdout",
     "output_type": "stream",
     "text": [
      "number of unique price is: 3\n"
     ]
    }
   ],
   "source": [
    "\n",
    "# set version\n",
    "def find_unique_price_using_set(products):\n",
    "    unique_price_set = set()\n",
    "    for _, price in products:\n",
    "        unique_price_set.add(price)\n",
    "    return len(unique_price_set)        \n",
    "\n",
    "products = [\n",
    "    (143121312, 100), \n",
    "    (432314553, 30),\n",
    "    (32421912367, 150),\n",
    "    (937153201, 30)\n",
    "]\n",
    "print('number of unique price is: {}'.format(find_unique_price_using_set(products)))\n"
   ]
  },
  {
   "cell_type": "code",
   "execution_count": 54,
   "id": "560e529e-2f74-477b-929b-d434a770b9de",
   "metadata": {},
   "outputs": [],
   "source": [
    "import time\n",
    "\n",
    "id = [x for x in range(0, 100000)]\n",
    "price = [x for x in range(200000, 300000)]\n",
    "products = list(zip(id, price))"
   ]
  },
  {
   "cell_type": "code",
   "execution_count": 55,
   "id": "e1a23b85-3055-4617-a55c-e5ca01a84061",
   "metadata": {},
   "outputs": [
    {
     "name": "stdout",
     "output_type": "stream",
     "text": [
      "time elapse using list: 60.47833129599985\n"
     ]
    }
   ],
   "source": [
    "# 计算列表版本的时间\n",
    "start_using_list = time.perf_counter()\n",
    "find_unique_price_using_list(products)\n",
    "end_using_list = time.perf_counter()\n",
    "\n",
    "print(\"time elapse using list: {}\".format(end_using_list - start_using_list))"
   ]
  },
  {
   "cell_type": "code",
   "execution_count": 56,
   "id": "23a5fe6b-2254-482d-8852-0d27b59e3b83",
   "metadata": {},
   "outputs": [
    {
     "name": "stdout",
     "output_type": "stream",
     "text": [
      "time elapse using set: 0.010887321999689448\n"
     ]
    }
   ],
   "source": [
    "\n",
    "# 计算集合版本的时间\n",
    "start_using_set = time.perf_counter()\n",
    "find_unique_price_using_set(products)\n",
    "end_using_set = time.perf_counter()\n",
    "print(\"time elapse using set: {}\".format(end_using_set - start_using_set))"
   ]
  }
 ],
 "metadata": {
  "kernelspec": {
   "display_name": "Python 3 (ipykernel)",
   "language": "python",
   "name": "python3"
  },
  "language_info": {
   "codemirror_mode": {
    "name": "ipython",
    "version": 3
   },
   "file_extension": ".py",
   "mimetype": "text/x-python",
   "name": "python",
   "nbconvert_exporter": "python",
   "pygments_lexer": "ipython3",
   "version": "3.8.13"
  }
 },
 "nbformat": 4,
 "nbformat_minor": 5
}
