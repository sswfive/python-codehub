{
 "cells": [
  {
   "cell_type": "markdown",
   "id": "02311cfb-a5cf-41f8-b703-0456162292d8",
   "metadata": {},
   "source": [
    "## 数据可视化"
   ]
  },
  {
   "cell_type": "code",
   "execution_count": 1,
   "id": "3108c43c-5ad4-47ab-9322-8d7672eeaa51",
   "metadata": {},
   "outputs": [],
   "source": [
    "import pandas as pd"
   ]
  },
  {
   "cell_type": "code",
   "execution_count": 2,
   "id": "9cabdcfd-2477-4055-aae8-4570925ae34b",
   "metadata": {},
   "outputs": [
    {
     "data": {
      "text/html": [
       "<div>\n",
       "<style scoped>\n",
       "    .dataframe tbody tr th:only-of-type {\n",
       "        vertical-align: middle;\n",
       "    }\n",
       "\n",
       "    .dataframe tbody tr th {\n",
       "        vertical-align: top;\n",
       "    }\n",
       "\n",
       "    .dataframe thead th {\n",
       "        text-align: right;\n",
       "    }\n",
       "</style>\n",
       "<table border=\"1\" class=\"dataframe\">\n",
       "  <thead>\n",
       "    <tr style=\"text-align: right;\">\n",
       "      <th></th>\n",
       "      <th>点赞数</th>\n",
       "      <th>转发数</th>\n",
       "      <th>热度指数</th>\n",
       "      <th>文章评级</th>\n",
       "      <th>浏览量</th>\n",
       "    </tr>\n",
       "  </thead>\n",
       "  <tbody>\n",
       "    <tr>\n",
       "      <th>0</th>\n",
       "      <td>2646</td>\n",
       "      <td>1347.0</td>\n",
       "      <td>7</td>\n",
       "      <td>5</td>\n",
       "      <td>260004</td>\n",
       "    </tr>\n",
       "    <tr>\n",
       "      <th>1</th>\n",
       "      <td>816</td>\n",
       "      <td>816.0</td>\n",
       "      <td>4</td>\n",
       "      <td>6</td>\n",
       "      <td>100004</td>\n",
       "    </tr>\n",
       "    <tr>\n",
       "      <th>2</th>\n",
       "      <td>1224</td>\n",
       "      <td>612.0</td>\n",
       "      <td>6</td>\n",
       "      <td>5</td>\n",
       "      <td>164502</td>\n",
       "    </tr>\n",
       "    <tr>\n",
       "      <th>3</th>\n",
       "      <td>1261</td>\n",
       "      <td>1261.0</td>\n",
       "      <td>6</td>\n",
       "      <td>6</td>\n",
       "      <td>163001</td>\n",
       "    </tr>\n",
       "    <tr>\n",
       "      <th>4</th>\n",
       "      <td>1720</td>\n",
       "      <td>1720.0</td>\n",
       "      <td>7</td>\n",
       "      <td>5</td>\n",
       "      <td>260401</td>\n",
       "    </tr>\n",
       "  </tbody>\n",
       "</table>\n",
       "</div>"
      ],
      "text/plain": [
       "    点赞数     转发数  热度指数  文章评级     浏览量\n",
       "0  2646  1347.0     7     5  260004\n",
       "1   816   816.0     4     6  100004\n",
       "2  1224   612.0     6     5  164502\n",
       "3  1261  1261.0     6     6  163001\n",
       "4  1720  1720.0     7     5  260401"
      ]
     },
     "execution_count": 2,
     "metadata": {},
     "output_type": "execute_result"
    }
   ],
   "source": [
    "# 读取数据\n",
    "df_ads = pd.read_csv(\"dataset/易速鲜花微信软文.csv\")\n",
    "df_ads.head()  # 显示前几行"
   ]
  },
  {
   "cell_type": "code",
   "execution_count": 3,
   "id": "91e7c9ac-ac8e-46a9-b19d-a427bbd3b88d",
   "metadata": {},
   "outputs": [],
   "source": [
    "# !pip install matplotlib  # 安装画图工具包"
   ]
  },
  {
   "cell_type": "code",
   "execution_count": 4,
   "id": "0544c419-25da-4c57-a375-8d887eb0d548",
   "metadata": {},
   "outputs": [],
   "source": [
    "import matplotlib.pyplot as plt  # python画图工具库"
   ]
  },
  {
   "cell_type": "code",
   "execution_count": 5,
   "id": "d934737f-6cb8-453f-8671-b0526874c0c6",
   "metadata": {},
   "outputs": [],
   "source": [
    "# ! pip install seaborn  -i https://mirrors.aliyun.com/pypi/simple  # 统计学数据可视化工具库"
   ]
  },
  {
   "cell_type": "code",
   "execution_count": 6,
   "id": "84dadfaf-6979-43f6-a6c0-3fcfef821c64",
   "metadata": {},
   "outputs": [],
   "source": [
    "import seaborn as sns"
   ]
  },
  {
   "cell_type": "markdown",
   "id": "0e35aced-c507-424e-9a4a-de838ac7a3dc",
   "metadata": {},
   "source": [
    "## 绘制散点图\n",
    "- 分析点赞数和浏览量的分布状态"
   ]
  },
  {
   "cell_type": "code",
   "execution_count": 7,
   "id": "2854075d-e4c3-40a2-87ee-fe7390734a20",
   "metadata": {},
   "outputs": [
    {
     "data": {
      "image/png": "[encoded data removed]",
      "text/plain": [
       "<Figure size 432x288 with 1 Axes>"
      ]
     },
     "metadata": {
      "needs_background": "light"
     },
     "output_type": "display_data"
    }
   ],
   "source": [
    "plt.plot(df_ads['点赞数'], df_ads['浏览量'], 'r.', label='Training data')\n",
    "plt.xlabel('点赞数')\n",
    "plt.ylabel('浏览量')\n",
    "plt.legend()  # 显示图例\n",
    "# plt.rcParams['font.sans-serif'] = ['SimHei']\n",
    "plt.show()"
   ]
  },
  {
   "cell_type": "markdown",
   "id": "f1197b08-0b3f-4403-9bef-e8e0b411bec7",
   "metadata": {},
   "source": [
    "## 绘制箱线图"
   ]
  },
  {
   "cell_type": "code",
   "execution_count": 8,
   "id": "0b085c17-a101-45f0-b4e0-9afba7581a8e",
   "metadata": {},
   "outputs": [
    {
     "data": {
      "text/plain": [
       "(-0.5, 9.5, 0.0, 800000.0)"
      ]
     },
     "execution_count": 8,
     "metadata": {},
     "output_type": "execute_result"
    },
    {
     "data": {
      "image/png": "[encoded data removed]",
      "text/plain": [
       "<Figure size 432x288 with 1 Axes>"
      ]
     },
     "metadata": {
      "needs_background": "light"
     },
     "output_type": "display_data"
    }
   ],
   "source": [
    "data = pd.concat([df_ads['浏览量'], df_ads['热度指数']], axis=1)\n",
    "fig = sns.boxplot(x='热度指数', y='浏览量', data=data)  # 用seaborn的箱线图画图\n",
    "fig.axis(ymin=0, ymax=800000)  # 指定y坐标轴"
   ]
  },
  {
   "cell_type": "markdown",
   "id": "8b396593-015d-45b4-aa0f-0d1e5b0e40e7",
   "metadata": {},
   "source": [
    "## 数据清洗"
   ]
  },
  {
   "cell_type": "code",
   "execution_count": 9,
   "id": "3726f084-c060-4825-a3b4-97ec3c95b187",
   "metadata": {},
   "outputs": [
    {
     "data": {
      "text/html": [
       "<div>\n",
       "<style scoped>\n",
       "    .dataframe tbody tr th:only-of-type {\n",
       "        vertical-align: middle;\n",
       "    }\n",
       "\n",
       "    .dataframe tbody tr th {\n",
       "        vertical-align: top;\n",
       "    }\n",
       "\n",
       "    .dataframe thead th {\n",
       "        text-align: right;\n",
       "    }\n",
       "</style>\n",
       "<table border=\"1\" class=\"dataframe\">\n",
       "  <thead>\n",
       "    <tr style=\"text-align: right;\">\n",
       "      <th></th>\n",
       "      <th>点赞数</th>\n",
       "      <th>转发数</th>\n",
       "      <th>热度指数</th>\n",
       "      <th>文章评级</th>\n",
       "      <th>浏览量</th>\n",
       "    </tr>\n",
       "  </thead>\n",
       "  <tbody>\n",
       "    <tr>\n",
       "      <th>0</th>\n",
       "      <td>False</td>\n",
       "      <td>False</td>\n",
       "      <td>False</td>\n",
       "      <td>False</td>\n",
       "      <td>False</td>\n",
       "    </tr>\n",
       "    <tr>\n",
       "      <th>1</th>\n",
       "      <td>False</td>\n",
       "      <td>False</td>\n",
       "      <td>False</td>\n",
       "      <td>False</td>\n",
       "      <td>False</td>\n",
       "    </tr>\n",
       "    <tr>\n",
       "      <th>2</th>\n",
       "      <td>False</td>\n",
       "      <td>False</td>\n",
       "      <td>False</td>\n",
       "      <td>False</td>\n",
       "      <td>False</td>\n",
       "    </tr>\n",
       "    <tr>\n",
       "      <th>3</th>\n",
       "      <td>False</td>\n",
       "      <td>False</td>\n",
       "      <td>False</td>\n",
       "      <td>False</td>\n",
       "      <td>False</td>\n",
       "    </tr>\n",
       "    <tr>\n",
       "      <th>4</th>\n",
       "      <td>False</td>\n",
       "      <td>False</td>\n",
       "      <td>False</td>\n",
       "      <td>False</td>\n",
       "      <td>False</td>\n",
       "    </tr>\n",
       "    <tr>\n",
       "      <th>...</th>\n",
       "      <td>...</td>\n",
       "      <td>...</td>\n",
       "      <td>...</td>\n",
       "      <td>...</td>\n",
       "      <td>...</td>\n",
       "    </tr>\n",
       "    <tr>\n",
       "      <th>1455</th>\n",
       "      <td>False</td>\n",
       "      <td>False</td>\n",
       "      <td>False</td>\n",
       "      <td>False</td>\n",
       "      <td>False</td>\n",
       "    </tr>\n",
       "    <tr>\n",
       "      <th>1456</th>\n",
       "      <td>False</td>\n",
       "      <td>False</td>\n",
       "      <td>False</td>\n",
       "      <td>False</td>\n",
       "      <td>False</td>\n",
       "    </tr>\n",
       "    <tr>\n",
       "      <th>1457</th>\n",
       "      <td>False</td>\n",
       "      <td>False</td>\n",
       "      <td>False</td>\n",
       "      <td>False</td>\n",
       "      <td>False</td>\n",
       "    </tr>\n",
       "    <tr>\n",
       "      <th>1458</th>\n",
       "      <td>False</td>\n",
       "      <td>False</td>\n",
       "      <td>False</td>\n",
       "      <td>False</td>\n",
       "      <td>False</td>\n",
       "    </tr>\n",
       "    <tr>\n",
       "      <th>1459</th>\n",
       "      <td>False</td>\n",
       "      <td>False</td>\n",
       "      <td>False</td>\n",
       "      <td>False</td>\n",
       "      <td>False</td>\n",
       "    </tr>\n",
       "  </tbody>\n",
       "</table>\n",
       "<p>1460 rows × 5 columns</p>\n",
       "</div>"
      ],
      "text/plain": [
       "        点赞数    转发数   热度指数   文章评级    浏览量\n",
       "0     False  False  False  False  False\n",
       "1     False  False  False  False  False\n",
       "2     False  False  False  False  False\n",
       "3     False  False  False  False  False\n",
       "4     False  False  False  False  False\n",
       "...     ...    ...    ...    ...    ...\n",
       "1455  False  False  False  False  False\n",
       "1456  False  False  False  False  False\n",
       "1457  False  False  False  False  False\n",
       "1458  False  False  False  False  False\n",
       "1459  False  False  False  False  False\n",
       "\n",
       "[1460 rows x 5 columns]"
      ]
     },
     "execution_count": 9,
     "metadata": {},
     "output_type": "execute_result"
    }
   ],
   "source": [
    "df_ads.isna()"
   ]
  },
  {
   "cell_type": "code",
   "execution_count": 10,
   "id": "ff772afc-c8ae-48d4-9be4-ceedfb1fc41c",
   "metadata": {},
   "outputs": [
    {
     "data": {
      "text/plain": [
       "点赞数      0\n",
       "转发数     37\n",
       "热度指数     0\n",
       "文章评级     0\n",
       "浏览量      0\n",
       "dtype: int64"
      ]
     },
     "execution_count": 10,
     "metadata": {},
     "output_type": "execute_result"
    }
   ],
   "source": [
    "df_ads.isna().sum()  # 统计nan出现的次数"
   ]
  },
  {
   "cell_type": "code",
   "execution_count": 11,
   "id": "f638d057-345c-49fb-8626-e01314b76ad0",
   "metadata": {},
   "outputs": [],
   "source": [
    "df_ads = df_ads.dropna()  # 删除出现nan的行"
   ]
  },
  {
   "cell_type": "code",
   "execution_count": 12,
   "id": "51d6ca63-7e0d-49da-8a0d-97251d529b0e",
   "metadata": {},
   "outputs": [
    {
     "data": {
      "text/plain": [
       "点赞数     0\n",
       "转发数     0\n",
       "热度指数    0\n",
       "文章评级    0\n",
       "浏览量     0\n",
       "dtype: int64"
      ]
     },
     "execution_count": 12,
     "metadata": {},
     "output_type": "execute_result"
    }
   ],
   "source": [
    "df_ads.isna().sum()"
   ]
  },
  {
   "cell_type": "markdown",
   "id": "a5d15a19-137f-481b-9331-127da3cb5a43",
   "metadata": {},
   "source": [
    "## 构建特征集和标签集"
   ]
  },
  {
   "cell_type": "code",
   "execution_count": 13,
   "id": "0c9b1124-cf26-41e5-b473-8feec748bc60",
   "metadata": {},
   "outputs": [],
   "source": [
    "X = df_ads.drop(['浏览量'], axis=1)  # 特征集，Drop掉标签相关的字段"
   ]
  },
  {
   "cell_type": "code",
   "execution_count": 14,
   "id": "c66d37e3-8a27-4bcb-ac99-8d7317a7bcfc",
   "metadata": {},
   "outputs": [
    {
     "data": {
      "text/html": [
       "<div>\n",
       "<style scoped>\n",
       "    .dataframe tbody tr th:only-of-type {\n",
       "        vertical-align: middle;\n",
       "    }\n",
       "\n",
       "    .dataframe tbody tr th {\n",
       "        vertical-align: top;\n",
       "    }\n",
       "\n",
       "    .dataframe thead th {\n",
       "        text-align: right;\n",
       "    }\n",
       "</style>\n",
       "<table border=\"1\" class=\"dataframe\">\n",
       "  <thead>\n",
       "    <tr style=\"text-align: right;\">\n",
       "      <th></th>\n",
       "      <th>点赞数</th>\n",
       "      <th>转发数</th>\n",
       "      <th>热度指数</th>\n",
       "      <th>文章评级</th>\n",
       "    </tr>\n",
       "  </thead>\n",
       "  <tbody>\n",
       "    <tr>\n",
       "      <th>0</th>\n",
       "      <td>2646</td>\n",
       "      <td>1347.0</td>\n",
       "      <td>7</td>\n",
       "      <td>5</td>\n",
       "    </tr>\n",
       "    <tr>\n",
       "      <th>1</th>\n",
       "      <td>816</td>\n",
       "      <td>816.0</td>\n",
       "      <td>4</td>\n",
       "      <td>6</td>\n",
       "    </tr>\n",
       "    <tr>\n",
       "      <th>2</th>\n",
       "      <td>1224</td>\n",
       "      <td>612.0</td>\n",
       "      <td>6</td>\n",
       "      <td>5</td>\n",
       "    </tr>\n",
       "    <tr>\n",
       "      <th>3</th>\n",
       "      <td>1261</td>\n",
       "      <td>1261.0</td>\n",
       "      <td>6</td>\n",
       "      <td>6</td>\n",
       "    </tr>\n",
       "    <tr>\n",
       "      <th>4</th>\n",
       "      <td>1720</td>\n",
       "      <td>1720.0</td>\n",
       "      <td>7</td>\n",
       "      <td>5</td>\n",
       "    </tr>\n",
       "  </tbody>\n",
       "</table>\n",
       "</div>"
      ],
      "text/plain": [
       "    点赞数     转发数  热度指数  文章评级\n",
       "0  2646  1347.0     7     5\n",
       "1   816   816.0     4     6\n",
       "2  1224   612.0     6     5\n",
       "3  1261  1261.0     6     6\n",
       "4  1720  1720.0     7     5"
      ]
     },
     "execution_count": 14,
     "metadata": {},
     "output_type": "execute_result"
    }
   ],
   "source": [
    "X.head()"
   ]
  },
  {
   "cell_type": "code",
   "execution_count": 15,
   "id": "80efb804-ec6b-4239-bc27-58e7e65fbdd6",
   "metadata": {},
   "outputs": [],
   "source": [
    "y = df_ads.浏览量  # 标签集"
   ]
  },
  {
   "cell_type": "code",
   "execution_count": 16,
   "id": "df141bcd-4ae2-4fb8-ab61-6423e18305ac",
   "metadata": {},
   "outputs": [
    {
     "data": {
      "text/plain": [
       "0       260004\n",
       "1       100004\n",
       "2       164502\n",
       "3       163001\n",
       "4       260401\n",
       "         ...  \n",
       "1455    140001\n",
       "1456    163503\n",
       "1457    392501\n",
       "1458    138805\n",
       "1459    193005\n",
       "Name: 浏览量, Length: 1423, dtype: int64"
      ]
     },
     "execution_count": 16,
     "metadata": {},
     "output_type": "execute_result"
    }
   ],
   "source": [
    "y"
   ]
  },
  {
   "cell_type": "code",
   "execution_count": 17,
   "id": "3d961ea8-c3fb-46ee-a5a3-57cb5a8fb09a",
   "metadata": {},
   "outputs": [
    {
     "data": {
      "text/plain": [
       "0    260004\n",
       "1    100004\n",
       "2    164502\n",
       "3    163001\n",
       "4    260401\n",
       "Name: 浏览量, dtype: int64"
      ]
     },
     "execution_count": 17,
     "metadata": {},
     "output_type": "execute_result"
    }
   ],
   "source": [
    "y.head()"
   ]
  },
  {
   "cell_type": "markdown",
   "id": "54bc553b-d188-481b-873c-e48e155bbf6c",
   "metadata": {},
   "source": [
    "## 拆分训练集、验证集、测试集"
   ]
  },
  {
   "cell_type": "code",
   "execution_count": 18,
   "id": "9f6603b6-ce87-4a60-ad2e-346d687d45c9",
   "metadata": {},
   "outputs": [],
   "source": [
    "# ! pip install scikit-learn  -i https://mirrors.aliyun.com/pypi/simple"
   ]
  },
  {
   "cell_type": "code",
   "execution_count": 19,
   "id": "e2231eb6-6afd-4b2f-84bd-9d308cafddd2",
   "metadata": {},
   "outputs": [],
   "source": [
    "from sklearn.model_selection import train_test_split\n",
    "# 指定一个 random_state 值，这样就保证程序每次运行都分割一样的训练集和测试集\n",
    "X_train, X_test, y_train, y_test = train_test_split(X, y, test_size=0.2, random_state=0)"
   ]
  },
  {
   "cell_type": "markdown",
   "id": "b40c1bf7-0162-4e1d-8a89-459583064ef5",
   "metadata": {},
   "source": [
    "## 选择算法并建立模型"
   ]
  },
  {
   "cell_type": "code",
   "execution_count": 20,
   "id": "fca37ca4-5a8c-4a0c-a506-4c27fe638cd5",
   "metadata": {},
   "outputs": [],
   "source": [
    "from sklearn.linear_model import LinearRegression  \n",
    "lineareg_model = LinearRegression()  # 使用线性回归算法建立模型"
   ]
  },
  {
   "cell_type": "code",
   "execution_count": 21,
   "id": "21015e22-763e-41a7-b84a-e068da76ade7",
   "metadata": {},
   "outputs": [
    {
     "data": {
      "text/html": [
       "<style>#sk-container-id-1 {color: black;background-color: white;}#sk-container-id-1 pre{padding: 0;}#sk-container-id-1 div.sk-toggleable {background-color: white;}#sk-container-id-1 label.sk-toggleable__label {cursor: pointer;display: block;width: 100%;margin-bottom: 0;padding: 0.3em;box-sizing: border-box;text-align: center;}#sk-container-id-1 label.sk-toggleable__label-arrow:before {content: \"▸\";float: left;margin-right: 0.25em;color: #696969;}#sk-container-id-1 label.sk-toggleable__label-arrow:hover:before {color: black;}#sk-container-id-1 div.sk-estimator:hover label.sk-toggleable__label-arrow:before {color: black;}#sk-container-id-1 div.sk-toggleable__content {max-height: 0;max-width: 0;overflow: hidden;text-align: left;background-color: #f0f8ff;}#sk-container-id-1 div.sk-toggleable__content pre {margin: 0.2em;color: black;border-radius: 0.25em;background-color: #f0f8ff;}#sk-container-id-1 input.sk-toggleable__control:checked~div.sk-toggleable__content {max-height: 200px;max-width: 100%;overflow: auto;}#sk-container-id-1 input.sk-toggleable__control:checked~label.sk-toggleable__label-arrow:before {content: \"▾\";}#sk-container-id-1 div.sk-estimator input.sk-toggleable__control:checked~label.sk-toggleable__label {background-color: #d4ebff;}#sk-container-id-1 div.sk-label input.sk-toggleable__control:checked~label.sk-toggleable__label {background-color: #d4ebff;}#sk-container-id-1 input.sk-hidden--visually {border: 0;clip: rect(1px 1px 1px 1px);clip: rect(1px, 1px, 1px, 1px);height: 1px;margin: -1px;overflow: hidden;padding: 0;position: absolute;width: 1px;}#sk-container-id-1 div.sk-estimator {font-family: monospace;background-color: #f0f8ff;border: 1px dotted black;border-radius: 0.25em;box-sizing: border-box;margin-bottom: 0.5em;}#sk-container-id-1 div.sk-estimator:hover {background-color: #d4ebff;}#sk-container-id-1 div.sk-parallel-item::after {content: \"\";width: 100%;border-bottom: 1px solid gray;flex-grow: 1;}#sk-container-id-1 div.sk-label:hover label.sk-toggleable__label {background-color: #d4ebff;}#sk-container-id-1 div.sk-serial::before {content: \"\";position: absolute;border-left: 1px solid gray;box-sizing: border-box;top: 0;bottom: 0;left: 50%;z-index: 0;}#sk-container-id-1 div.sk-serial {display: flex;flex-direction: column;align-items: center;background-color: white;padding-right: 0.2em;padding-left: 0.2em;position: relative;}#sk-container-id-1 div.sk-item {position: relative;z-index: 1;}#sk-container-id-1 div.sk-parallel {display: flex;align-items: stretch;justify-content: center;background-color: white;position: relative;}#sk-container-id-1 div.sk-item::before, #sk-container-id-1 div.sk-parallel-item::before {content: \"\";position: absolute;border-left: 1px solid gray;box-sizing: border-box;top: 0;bottom: 0;left: 50%;z-index: -1;}#sk-container-id-1 div.sk-parallel-item {display: flex;flex-direction: column;z-index: 1;position: relative;background-color: white;}#sk-container-id-1 div.sk-parallel-item:first-child::after {align-self: flex-end;width: 50%;}#sk-container-id-1 div.sk-parallel-item:last-child::after {align-self: flex-start;width: 50%;}#sk-container-id-1 div.sk-parallel-item:only-child::after {width: 0;}#sk-container-id-1 div.sk-dashed-wrapped {border: 1px dashed gray;margin: 0 0.4em 0.5em 0.4em;box-sizing: border-box;padding-bottom: 0.4em;background-color: white;}#sk-container-id-1 div.sk-label label {font-family: monospace;font-weight: bold;display: inline-block;line-height: 1.2em;}#sk-container-id-1 div.sk-label-container {text-align: center;}#sk-container-id-1 div.sk-container {/* jupyter's `normalize.less` sets `[hidden] { display: none; }` but bootstrap.min.css set `[hidden] { display: none !important; }` so we also need the `!important` here to be able to override the default hidden behavior on the sphinx rendered scikit-learn.org. See: https://github.com/scikit-learn/scikit-learn/issues/21755 */display: inline-block !important;position: relative;}#sk-container-id-1 div.sk-text-repr-fallback {display: none;}</style><div id=\"sk-container-id-1\" class=\"sk-top-container\"><div class=\"sk-text-repr-fallback\"><pre>LinearRegression()</pre><b>In a Jupyter environment, please rerun this cell to show the HTML representation or trust the notebook. <br />On GitHub, the HTML representation is unable to render, please try loading this page with nbviewer.org.</b></div><div class=\"sk-container\" hidden><div class=\"sk-item\"><div class=\"sk-estimator sk-toggleable\"><input class=\"sk-toggleable__control sk-hidden--visually\" id=\"sk-estimator-id-1\" type=\"checkbox\" checked><label for=\"sk-estimator-id-1\" class=\"sk-toggleable__label sk-toggleable__label-arrow\">LinearRegression</label><div class=\"sk-toggleable__content\"><pre>LinearRegression()</pre></div></div></div></div></div>"
      ],
      "text/plain": [
       "LinearRegression()"
      ]
     },
     "execution_count": 21,
     "metadata": {},
     "output_type": "execute_result"
    }
   ],
   "source": [
    "lineareg_model.fit(X_train, y_train)  # 用训练数据集数据，训练模型，拟合函数，确定内部参数"
   ]
  },
  {
   "cell_type": "code",
   "execution_count": 22,
   "id": "ff1b9560-38d0-4939-af8c-233718ff066a",
   "metadata": {},
   "outputs": [],
   "source": [
    "y_pred = lineareg_model.predict(X_test)  # 预测测试集的Y值"
   ]
  },
  {
   "cell_type": "code",
   "execution_count": 26,
   "id": "9a875ffd-2bd3-4b36-ade3-0a18667a0ea7",
   "metadata": {},
   "outputs": [],
   "source": [
    "# y_pred"
   ]
  },
  {
   "cell_type": "code",
   "execution_count": 27,
   "id": "d25f3120-7a81-4a3a-9bcc-291634764f71",
   "metadata": {},
   "outputs": [
    {
     "data": {
      "text/html": [
       "<div>\n",
       "<style scoped>\n",
       "    .dataframe tbody tr th:only-of-type {\n",
       "        vertical-align: middle;\n",
       "    }\n",
       "\n",
       "    .dataframe tbody tr th {\n",
       "        vertical-align: top;\n",
       "    }\n",
       "\n",
       "    .dataframe thead th {\n",
       "        text-align: right;\n",
       "    }\n",
       "</style>\n",
       "<table border=\"1\" class=\"dataframe\">\n",
       "  <thead>\n",
       "    <tr style=\"text-align: right;\">\n",
       "      <th></th>\n",
       "      <th>点赞数</th>\n",
       "      <th>转发数</th>\n",
       "      <th>热度指数</th>\n",
       "      <th>文章评级</th>\n",
       "      <th>浏览量真值</th>\n",
       "      <th>浏览量预测值</th>\n",
       "    </tr>\n",
       "  </thead>\n",
       "  <tbody>\n",
       "    <tr>\n",
       "      <th>1074</th>\n",
       "      <td>1709</td>\n",
       "      <td>970.0</td>\n",
       "      <td>6</td>\n",
       "      <td>5</td>\n",
       "      <td>130003</td>\n",
       "      <td>181499.180492</td>\n",
       "    </tr>\n",
       "    <tr>\n",
       "      <th>404</th>\n",
       "      <td>1440</td>\n",
       "      <td>1440.0</td>\n",
       "      <td>4</td>\n",
       "      <td>4</td>\n",
       "      <td>118005</td>\n",
       "      <td>122478.101604</td>\n",
       "    </tr>\n",
       "    <tr>\n",
       "      <th>1375</th>\n",
       "      <td>1434</td>\n",
       "      <td>1454.0</td>\n",
       "      <td>7</td>\n",
       "      <td>5</td>\n",
       "      <td>189003</td>\n",
       "      <td>214815.847941</td>\n",
       "    </tr>\n",
       "    <tr>\n",
       "      <th>1317</th>\n",
       "      <td>832</td>\n",
       "      <td>832.0</td>\n",
       "      <td>6</td>\n",
       "      <td>6</td>\n",
       "      <td>105504</td>\n",
       "      <td>137486.350468</td>\n",
       "    </tr>\n",
       "    <tr>\n",
       "      <th>145</th>\n",
       "      <td>923</td>\n",
       "      <td>876.0</td>\n",
       "      <td>5</td>\n",
       "      <td>5</td>\n",
       "      <td>119501</td>\n",
       "      <td>110710.382414</td>\n",
       "    </tr>\n",
       "    <tr>\n",
       "      <th>...</th>\n",
       "      <td>...</td>\n",
       "      <td>...</td>\n",
       "      <td>...</td>\n",
       "      <td>...</td>\n",
       "      <td>...</td>\n",
       "      <td>...</td>\n",
       "    </tr>\n",
       "    <tr>\n",
       "      <th>420</th>\n",
       "      <td>1790</td>\n",
       "      <td>873.0</td>\n",
       "      <td>7</td>\n",
       "      <td>5</td>\n",
       "      <td>193004</td>\n",
       "      <td>211755.243385</td>\n",
       "    </tr>\n",
       "    <tr>\n",
       "      <th>1338</th>\n",
       "      <td>2622</td>\n",
       "      <td>1463.0</td>\n",
       "      <td>8</td>\n",
       "      <td>5</td>\n",
       "      <td>325002</td>\n",
       "      <td>301982.291922</td>\n",
       "    </tr>\n",
       "    <tr>\n",
       "      <th>542</th>\n",
       "      <td>1342</td>\n",
       "      <td>1372.0</td>\n",
       "      <td>6</td>\n",
       "      <td>5</td>\n",
       "      <td>161502</td>\n",
       "      <td>177814.080182</td>\n",
       "    </tr>\n",
       "    <tr>\n",
       "      <th>311</th>\n",
       "      <td>1663</td>\n",
       "      <td>1364.0</td>\n",
       "      <td>4</td>\n",
       "      <td>6</td>\n",
       "      <td>256002</td>\n",
       "      <td>136460.539585</td>\n",
       "    </tr>\n",
       "    <tr>\n",
       "      <th>887</th>\n",
       "      <td>1442</td>\n",
       "      <td>1442.0</td>\n",
       "      <td>6</td>\n",
       "      <td>6</td>\n",
       "      <td>185001</td>\n",
       "      <td>188003.240929</td>\n",
       "    </tr>\n",
       "  </tbody>\n",
       "</table>\n",
       "<p>285 rows × 6 columns</p>\n",
       "</div>"
      ],
      "text/plain": [
       "       点赞数     转发数  热度指数  文章评级   浏览量真值         浏览量预测值\n",
       "1074  1709   970.0     6     5  130003  181499.180492\n",
       "404   1440  1440.0     4     4  118005  122478.101604\n",
       "1375  1434  1454.0     7     5  189003  214815.847941\n",
       "1317   832   832.0     6     6  105504  137486.350468\n",
       "145    923   876.0     5     5  119501  110710.382414\n",
       "...    ...     ...   ...   ...     ...            ...\n",
       "420   1790   873.0     7     5  193004  211755.243385\n",
       "1338  2622  1463.0     8     5  325002  301982.291922\n",
       "542   1342  1372.0     6     5  161502  177814.080182\n",
       "311   1663  1364.0     4     6  256002  136460.539585\n",
       "887   1442  1442.0     6     6  185001  188003.240929\n",
       "\n",
       "[285 rows x 6 columns]"
      ]
     },
     "execution_count": 27,
     "metadata": {},
     "output_type": "execute_result"
    }
   ],
   "source": [
    "df_ads_pred = X_test.copy()  # 测试集特征数据\n",
    "df_ads_pred['浏览量真值'] = y_test   # 测试集标签真值\n",
    "df_ads_pred['浏览量预测值'] = y_pred  # 测试集标签预测值\n",
    "df_ads_pred"
   ]
  },
  {
   "cell_type": "code",
   "execution_count": 29,
   "id": "9e6a5d19-762f-4015-bfa0-5966885ab149",
   "metadata": {},
   "outputs": [
    {
     "name": "stdout",
     "output_type": "stream",
     "text": [
      "当前模型的4个特征的权重分别是:  [   48.08395224    34.73062229 29730.13312489  2949.62196343]\n",
      "当前模型的截距（偏置）是:  -127493.90606857178\n"
     ]
    }
   ],
   "source": [
    "print('当前模型的4个特征的权重分别是: ', lineareg_model.coef_)\n",
    "print('当前模型的截距（偏置）是: ', lineareg_model.intercept_)"
   ]
  },
  {
   "cell_type": "code",
   "execution_count": 31,
   "id": "a61da468-df0e-4b4a-b552-f3fac325c923",
   "metadata": {},
   "outputs": [
    {
     "name": "stdout",
     "output_type": "stream",
     "text": [
      "线性回归预测评分： 0.740552064611524\n"
     ]
    }
   ],
   "source": [
    "print(\"线性回归预测评分：\", lineareg_model.score(X_test, y_test)) # 评估模型"
   ]
  },
  {
   "cell_type": "code",
   "execution_count": null,
   "id": "ea8efcf0-b7dc-4e51-aa73-8e002a97407e",
   "metadata": {},
   "outputs": [],
   "source": []
  }
 ],
 "metadata": {
  "kernelspec": {
   "display_name": "Python 3 (ipykernel)",
   "language": "python",
   "name": "python3"
  },
  "language_info": {
   "codemirror_mode": {
    "name": "ipython",
    "version": 3
   },
   "file_extension": ".py",
   "mimetype": "text/x-python",
   "name": "python",
   "nbconvert_exporter": "python",
   "pygments_lexer": "ipython3",
   "version": "3.8.13"
  }
 },
 "nbformat": 4,
 "nbformat_minor": 5
}
