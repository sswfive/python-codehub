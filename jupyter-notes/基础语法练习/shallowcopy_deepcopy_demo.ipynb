<<<<<<< HEAD
{
 "cells": [
  {
   "cell_type": "code",
   "execution_count": 8,
   "id": "db72e0a1-d4c7-4906-bf74-9199b21bfaaf",
   "metadata": {},
   "outputs": [
    {
     "data": {
      "text/plain": [
       "True"
      ]
     },
     "execution_count": 8,
     "metadata": {},
     "output_type": "execute_result"
    }
   ],
   "source": [
    "a = 10\n",
    "b = 10\n",
    "a == b"
   ]
  },
  {
   "cell_type": "code",
   "execution_count": 2,
   "id": "55ab69e4-9a5a-4c08-bf6f-1fbe6208d669",
   "metadata": {},
   "outputs": [
    {
     "data": {
      "text/plain": [
       "4553292112"
      ]
     },
     "execution_count": 2,
     "metadata": {},
     "output_type": "execute_result"
    }
   ],
   "source": [
    "id(a)"
   ]
  },
  {
   "cell_type": "code",
   "execution_count": 3,
   "id": "1c132b9f-5d5e-48c7-8062-319fd809d63a",
   "metadata": {},
   "outputs": [
    {
     "data": {
      "text/plain": [
       "4553292112"
      ]
     },
     "execution_count": 3,
     "metadata": {},
     "output_type": "execute_result"
    }
   ],
   "source": [
    "id(b)"
   ]
  },
  {
   "cell_type": "code",
   "execution_count": 4,
   "id": "0f30365c-2a01-46c1-900d-c47c0a2f8e35",
   "metadata": {},
   "outputs": [
    {
     "data": {
      "text/plain": [
       "True"
      ]
     },
     "execution_count": 4,
     "metadata": {},
     "output_type": "execute_result"
    }
   ],
   "source": [
    "a is b"
   ]
  },
  {
   "cell_type": "code",
   "execution_count": null,
   "id": "6de6ba8e-ca63-40dd-8431-bf55c833ef2f",
   "metadata": {},
   "outputs": [],
   "source": []
  }
 ],
 "metadata": {
  "kernelspec": {
   "display_name": "Python 3 (ipykernel)",
   "language": "python",
   "name": "python3"
  },
  "language_info": {
   "codemirror_mode": {
    "name": "ipython",
    "version": 3
   },
   "file_extension": ".py",
   "mimetype": "text/x-python",
   "name": "python",
   "nbconvert_exporter": "python",
   "pygments_lexer": "ipython3",
   "version": "3.8.13"
  }
 },
 "nbformat": 4,
 "nbformat_minor": 5
}
=======
{
 "cells": [
  {
   "cell_type": "markdown",
   "id": "f21cf569-0a89-45d8-b950-6e773318b287",
   "metadata": {},
   "source": [
    "## 对象比较"
   ]
  },
  {
   "cell_type": "code",
   "execution_count": 1,
   "id": "db72e0a1-d4c7-4906-bf74-9199b21bfaaf",
   "metadata": {},
   "outputs": [
    {
     "data": {
      "text/plain": [
       "True"
      ]
     },
     "execution_count": 1,
     "metadata": {},
     "output_type": "execute_result"
    }
   ],
   "source": [
    "a = 5\n",
    "b = 5\n",
    "a == b"
   ]
  },
  {
   "cell_type": "code",
   "execution_count": 2,
   "id": "55ab69e4-9a5a-4c08-bf6f-1fbe6208d669",
   "metadata": {},
   "outputs": [
    {
     "data": {
      "text/plain": [
       "4342077616"
      ]
     },
     "execution_count": 2,
     "metadata": {},
     "output_type": "execute_result"
    }
   ],
   "source": [
    "id(a)"
   ]
  },
  {
   "cell_type": "code",
   "execution_count": 3,
   "id": "1c132b9f-5d5e-48c7-8062-319fd809d63a",
   "metadata": {},
   "outputs": [
    {
     "data": {
      "text/plain": [
       "4342077616"
      ]
     },
     "execution_count": 3,
     "metadata": {},
     "output_type": "execute_result"
    }
   ],
   "source": [
    "id(b)"
   ]
  },
  {
   "cell_type": "code",
   "execution_count": 4,
   "id": "0f30365c-2a01-46c1-900d-c47c0a2f8e35",
   "metadata": {},
   "outputs": [
    {
     "data": {
      "text/plain": [
       "True"
      ]
     },
     "execution_count": 4,
     "metadata": {},
     "output_type": "execute_result"
    }
   ],
   "source": [
    "a is b"
   ]
  },
  {
   "cell_type": "markdown",
   "id": "a9a6c656-c440-43e0-a0b0-9d3ef18fa671",
   "metadata": {},
   "source": [
    "- 对于整型数字来说，a is b 为True的结论，只适用于-5到256范围内的数字\n",
    "    - 出于性能考虑，python内部会对-5到256的整型维持一个数组，起到一个缓存的作用。当整型在此范围内事，python都会从这个数组中返回响应的引用，而不是重新开辟一块新内存空间 \n",
    "- 比较操作符“is\"的速度效率，通常要优于”==“\n",
    "    - is操作符不能被重载，不能被重载，python就不需要去寻找其他地方是否有重载了比较运算符，并去调用。\n",
    "- a == b 相当于执行了a.__eq__(b)"
   ]
  },
  {
   "cell_type": "code",
   "execution_count": 1,
   "id": "dd51db47-7f05-4f3e-b6f4-9e3c2211aa2d",
   "metadata": {},
   "outputs": [],
   "source": [
    "a = 257\n",
    "b = 257"
   ]
  },
  {
   "cell_type": "code",
   "execution_count": 2,
   "id": "99a59dc3-4163-403f-bd4f-310c3ecc20d9",
   "metadata": {},
   "outputs": [
    {
     "data": {
      "text/plain": [
       "True"
      ]
     },
     "execution_count": 2,
     "metadata": {},
     "output_type": "execute_result"
    }
   ],
   "source": [
    "a == b"
   ]
  },
  {
   "cell_type": "code",
   "execution_count": 3,
   "id": "a6cabda5-2e47-497b-a5c2-dde08e399b89",
   "metadata": {},
   "outputs": [
    {
     "data": {
      "text/plain": [
       "140367724625104"
      ]
     },
     "execution_count": 3,
     "metadata": {},
     "output_type": "execute_result"
    }
   ],
   "source": [
    "id(a)"
   ]
  },
  {
   "cell_type": "code",
   "execution_count": 4,
   "id": "d22740ef-6184-45e9-aecb-3c6a43396ae4",
   "metadata": {},
   "outputs": [
    {
     "data": {
      "text/plain": [
       "140367724624976"
      ]
     },
     "execution_count": 4,
     "metadata": {},
     "output_type": "execute_result"
    }
   ],
   "source": [
    "id(b)"
   ]
  },
  {
   "cell_type": "code",
   "execution_count": 5,
   "id": "f4263936-5ca1-4636-b728-1ef2a075ddc4",
   "metadata": {},
   "outputs": [
    {
     "data": {
      "text/plain": [
       "False"
      ]
     },
     "execution_count": 5,
     "metadata": {},
     "output_type": "execute_result"
    }
   ],
   "source": [
    "a is b"
   ]
  },
  {
   "cell_type": "code",
   "execution_count": 6,
   "id": "8958242b-6ff2-481b-b429-05f5d5117740",
   "metadata": {},
   "outputs": [],
   "source": [
    "c = -5"
   ]
  },
  {
   "cell_type": "code",
   "execution_count": 7,
   "id": "875738ba-169a-4246-89cd-20afbbf505f3",
   "metadata": {},
   "outputs": [],
   "source": [
    "d = -5"
   ]
  },
  {
   "cell_type": "code",
   "execution_count": 8,
   "id": "4d352246-1264-4d66-8d74-58906cd5377f",
   "metadata": {},
   "outputs": [
    {
     "data": {
      "text/plain": [
       "True"
      ]
     },
     "execution_count": 8,
     "metadata": {},
     "output_type": "execute_result"
    }
   ],
   "source": [
    "c == d"
   ]
  },
  {
   "cell_type": "code",
   "execution_count": 9,
   "id": "92718051-e1b6-411f-ae62-87764e0da09b",
   "metadata": {},
   "outputs": [
    {
     "data": {
      "text/plain": [
       "True"
      ]
     },
     "execution_count": 9,
     "metadata": {},
     "output_type": "execute_result"
    }
   ],
   "source": [
    "c is d"
   ]
  },
  {
   "cell_type": "code",
   "execution_count": 10,
   "id": "cd9e016d-0331-4f25-93de-6a89cbeddb8f",
   "metadata": {},
   "outputs": [],
   "source": [
    "t1 = (1,2,[3,4])\n",
    "t2 = (1,2,[3,4])"
   ]
  },
  {
   "cell_type": "code",
   "execution_count": 11,
   "id": "430ab7e4-884d-4f82-85c5-21b929d8dace",
   "metadata": {},
   "outputs": [
    {
     "data": {
      "text/plain": [
       "True"
      ]
     },
     "execution_count": 11,
     "metadata": {},
     "output_type": "execute_result"
    }
   ],
   "source": [
    "t1 == t2"
   ]
  },
  {
   "cell_type": "code",
   "execution_count": 12,
   "id": "eaf68385-292e-457e-be8a-a05c041bd991",
   "metadata": {},
   "outputs": [],
   "source": [
    "t1[-1].append(5)"
   ]
  },
  {
   "cell_type": "code",
   "execution_count": 13,
   "id": "11d2f1b7-1021-4baa-94df-9365f19c41d8",
   "metadata": {},
   "outputs": [
    {
     "data": {
      "text/plain": [
       "False"
      ]
     },
     "execution_count": 13,
     "metadata": {},
     "output_type": "execute_result"
    }
   ],
   "source": [
    "t1 == t2"
   ]
  },
  {
   "cell_type": "markdown",
   "id": "b28cd511-19a7-4f10-be05-b0f3d3d5f8f3",
   "metadata": {},
   "source": [
    "## Shallow copy"
   ]
  },
  {
   "cell_type": "code",
   "execution_count": 14,
   "id": "6e42e234-2248-42d3-8a13-af292223f544",
   "metadata": {},
   "outputs": [],
   "source": [
    "l1 = [1,2,3]\n",
    "l2 = list(l1)"
   ]
  },
  {
   "cell_type": "code",
   "execution_count": 15,
   "id": "0488ed4a-1289-4849-9c0c-5bf85151197f",
   "metadata": {},
   "outputs": [
    {
     "data": {
      "text/plain": [
       "[1, 2, 3]"
      ]
     },
     "execution_count": 15,
     "metadata": {},
     "output_type": "execute_result"
    }
   ],
   "source": [
    "l2 "
   ]
  },
  {
   "cell_type": "code",
   "execution_count": 16,
   "id": "0ec21cb2-942c-4a62-9488-88f27f405615",
   "metadata": {},
   "outputs": [
    {
     "data": {
      "text/plain": [
       "True"
      ]
     },
     "execution_count": 16,
     "metadata": {},
     "output_type": "execute_result"
    }
   ],
   "source": [
    "l1 == l2"
   ]
  },
  {
   "cell_type": "code",
   "execution_count": 17,
   "id": "10bff18a-7a16-422f-950b-a4adf0f0f44f",
   "metadata": {},
   "outputs": [],
   "source": [
    "s1 = set([1, 2,3])\n",
    "s2 = set(s1)"
   ]
  },
  {
   "cell_type": "code",
   "execution_count": 18,
   "id": "93b24ff1-f1e5-4bef-a846-09b318daba95",
   "metadata": {},
   "outputs": [
    {
     "data": {
      "text/plain": [
       "{1, 2, 3}"
      ]
     },
     "execution_count": 18,
     "metadata": {},
     "output_type": "execute_result"
    }
   ],
   "source": [
    "s2"
   ]
  },
  {
   "cell_type": "code",
   "execution_count": 19,
   "id": "afd1de67-8379-478c-86f2-42e51a8af47f",
   "metadata": {},
   "outputs": [
    {
     "data": {
      "text/plain": [
       "True"
      ]
     },
     "execution_count": 19,
     "metadata": {},
     "output_type": "execute_result"
    }
   ],
   "source": [
    "s1 ==s2"
   ]
  },
  {
   "cell_type": "code",
   "execution_count": 20,
   "id": "8a1021a4-866d-481c-8ae1-f9b56bb3cb94",
   "metadata": {},
   "outputs": [
    {
     "data": {
      "text/plain": [
       "False"
      ]
     },
     "execution_count": 20,
     "metadata": {},
     "output_type": "execute_result"
    }
   ],
   "source": [
    "s1 is s2"
   ]
  },
  {
   "cell_type": "code",
   "execution_count": 21,
   "id": "83aba82a-dcd0-494e-a9d4-cf28504148f8",
   "metadata": {},
   "outputs": [],
   "source": [
    "import copy"
   ]
  },
  {
   "cell_type": "code",
   "execution_count": 22,
   "id": "127067e2-e380-4e5f-92e7-57696c357a3c",
   "metadata": {},
   "outputs": [],
   "source": [
    "l1 = [1,2,3]\n",
    "l2 = copy.copy(l1)"
   ]
  },
  {
   "cell_type": "code",
   "execution_count": 23,
   "id": "e2be0b19-7925-4338-b072-3438b80c618c",
   "metadata": {},
   "outputs": [
    {
     "data": {
      "text/plain": [
       "[1, 2, 3]"
      ]
     },
     "execution_count": 23,
     "metadata": {},
     "output_type": "execute_result"
    }
   ],
   "source": [
    "l2"
   ]
  },
  {
   "cell_type": "code",
   "execution_count": 24,
   "id": "81f389f2-e23c-46a8-ac95-864a35b6ce29",
   "metadata": {},
   "outputs": [],
   "source": [
    "t11 = (1,2,3)"
   ]
  },
  {
   "cell_type": "code",
   "execution_count": 25,
   "id": "bac7db3f-a198-4d22-969c-ca35212650bf",
   "metadata": {},
   "outputs": [],
   "source": [
    "t22 = tuple(t11)"
   ]
  },
  {
   "cell_type": "code",
   "execution_count": 26,
   "id": "af8599af-5b51-4955-bc49-3ff28a5b4daa",
   "metadata": {},
   "outputs": [
    {
     "data": {
      "text/plain": [
       "True"
      ]
     },
     "execution_count": 26,
     "metadata": {},
     "output_type": "execute_result"
    }
   ],
   "source": [
    "t11 == t22"
   ]
  },
  {
   "cell_type": "code",
   "execution_count": 27,
   "id": "544730da-0974-4d14-b49e-dde378644b1c",
   "metadata": {},
   "outputs": [
    {
     "data": {
      "text/plain": [
       "True"
      ]
     },
     "execution_count": 27,
     "metadata": {},
     "output_type": "execute_result"
    }
   ],
   "source": [
    "t11 is t22"
   ]
  },
  {
   "cell_type": "markdown",
   "id": "8c9528d3-5bbe-4255-9d3f-629d13fed87a",
   "metadata": {
    "tags": []
   },
   "source": [
    "## 案例"
   ]
  },
  {
   "cell_type": "code",
   "execution_count": 28,
   "id": "57e846c5-b622-4de3-b8c2-85ea61f346fb",
   "metadata": {},
   "outputs": [],
   "source": [
    "l1 = [[1,2],(30,40)]"
   ]
  },
  {
   "cell_type": "code",
   "execution_count": 29,
   "id": "f029f864-8204-4806-a1c8-fcf496e07f58",
   "metadata": {},
   "outputs": [],
   "source": [
    "l2 = list(l1)"
   ]
  },
  {
   "cell_type": "code",
   "execution_count": 30,
   "id": "b34c05fd-d08f-4c61-9679-ff881d139002",
   "metadata": {},
   "outputs": [],
   "source": [
    "l1.append(100)"
   ]
  },
  {
   "cell_type": "code",
   "execution_count": 31,
   "id": "aae7431c-c927-4250-b458-12ddd2cf69bc",
   "metadata": {},
   "outputs": [],
   "source": [
    "l1[0].append(3)"
   ]
  },
  {
   "cell_type": "code",
   "execution_count": 32,
   "id": "adf4d4b7-3b3f-4697-ab1d-9696ddd2ee0d",
   "metadata": {},
   "outputs": [
    {
     "data": {
      "text/plain": [
       "[[1, 2, 3], (30, 40), 100]"
      ]
     },
     "execution_count": 32,
     "metadata": {},
     "output_type": "execute_result"
    }
   ],
   "source": [
    "l1"
   ]
  },
  {
   "cell_type": "code",
   "execution_count": 33,
   "id": "122c569f-f343-4699-911a-ecce6e7265a2",
   "metadata": {},
   "outputs": [
    {
     "data": {
      "text/plain": [
       "[[1, 2, 3], (30, 40)]"
      ]
     },
     "execution_count": 33,
     "metadata": {},
     "output_type": "execute_result"
    }
   ],
   "source": [
    "l2"
   ]
  },
  {
   "cell_type": "code",
   "execution_count": 34,
   "id": "eab1925e-c3d8-4ac8-8d72-b8ec0ee9eb87",
   "metadata": {},
   "outputs": [],
   "source": [
    "l1[1] += (50,60)"
   ]
  },
  {
   "cell_type": "code",
   "execution_count": 35,
   "id": "632d2911-475a-4016-9433-fadde3126f5f",
   "metadata": {},
   "outputs": [
    {
     "data": {
      "text/plain": [
       "[[1, 2, 3], (30, 40, 50, 60), 100]"
      ]
     },
     "execution_count": 35,
     "metadata": {},
     "output_type": "execute_result"
    }
   ],
   "source": [
    "l1"
   ]
  },
  {
   "cell_type": "code",
   "execution_count": 36,
   "id": "a770b07c-9941-4a45-ba40-9bedb0e16293",
   "metadata": {},
   "outputs": [
    {
     "data": {
      "text/plain": [
       "[[1, 2, 3], (30, 40)]"
      ]
     },
     "execution_count": 36,
     "metadata": {},
     "output_type": "execute_result"
    }
   ],
   "source": [
    "l2"
   ]
  },
  {
   "cell_type": "markdown",
   "id": "fef87c40-5c35-4f0e-83a3-4816054e5106",
   "metadata": {},
   "source": [
    "## Deep copy"
   ]
  },
  {
   "cell_type": "code",
   "execution_count": 37,
   "id": "44560f48-886e-43ef-b0f1-7354554f1969",
   "metadata": {},
   "outputs": [],
   "source": [
    "import copy"
   ]
  },
  {
   "cell_type": "code",
   "execution_count": 38,
   "id": "5099b4d9-cdf1-4bed-9dc1-0b6210309964",
   "metadata": {},
   "outputs": [],
   "source": [
    "l1 = [[1,2], (30, 40)]"
   ]
  },
  {
   "cell_type": "code",
   "execution_count": 39,
   "id": "cffc060f-3729-4e79-91fb-21544b96f173",
   "metadata": {},
   "outputs": [],
   "source": [
    "l2 = copy.deepcopy(l1)"
   ]
  },
  {
   "cell_type": "code",
   "execution_count": 40,
   "id": "57898ab9-a443-49a5-88bf-9834c1e5b560",
   "metadata": {},
   "outputs": [],
   "source": [
    "l1.append(100)"
   ]
  },
  {
   "cell_type": "code",
   "execution_count": 41,
   "id": "04fe5ed7-5103-4c6b-8329-41d7a3eceb46",
   "metadata": {},
   "outputs": [],
   "source": [
    "l1[0].append(3)"
   ]
  },
  {
   "cell_type": "code",
   "execution_count": 42,
   "id": "e4d0590c-1399-45cf-8ce9-5d73c03d90ff",
   "metadata": {},
   "outputs": [
    {
     "data": {
      "text/plain": [
       "[[1, 2, 3], (30, 40), 100]"
      ]
     },
     "execution_count": 42,
     "metadata": {},
     "output_type": "execute_result"
    }
   ],
   "source": [
    "l1"
   ]
  },
  {
   "cell_type": "code",
   "execution_count": 43,
   "id": "5cf343b8-328f-4c6d-ac01-e479637465bb",
   "metadata": {},
   "outputs": [
    {
     "data": {
      "text/plain": [
       "[[1, 2], (30, 40)]"
      ]
     },
     "execution_count": 43,
     "metadata": {},
     "output_type": "execute_result"
    }
   ],
   "source": [
    "l2"
   ]
  },
  {
   "cell_type": "code",
   "execution_count": 44,
   "id": "4d653ac9-b7d0-4b34-9a38-8febe8fa6207",
   "metadata": {},
   "outputs": [],
   "source": [
    "x = [1]\n",
    "x.append(x)"
   ]
  },
  {
   "cell_type": "code",
   "execution_count": 45,
   "id": "f818cd71-0973-463f-8304-3d66b3e0c25b",
   "metadata": {},
   "outputs": [
    {
     "data": {
      "text/plain": [
       "[1, [...]]"
      ]
     },
     "execution_count": 45,
     "metadata": {},
     "output_type": "execute_result"
    }
   ],
   "source": [
    "x"
   ]
  },
  {
   "cell_type": "code",
   "execution_count": 46,
   "id": "1e01d595-a103-4a0b-8492-d5e767c2f093",
   "metadata": {},
   "outputs": [],
   "source": [
    "y = copy.deepcopy(x)"
   ]
  },
  {
   "cell_type": "code",
   "execution_count": 47,
   "id": "4e3e8f9d-4f0f-43a4-ba2a-a9df4c1bf78c",
   "metadata": {},
   "outputs": [
    {
     "data": {
      "text/plain": [
       "[1, [...]]"
      ]
     },
     "execution_count": 47,
     "metadata": {},
     "output_type": "execute_result"
    }
   ],
   "source": [
    "y"
   ]
  },
  {
   "cell_type": "code",
   "execution_count": 48,
   "id": "bd2fd3af-9d6a-4c59-a6ab-b1b83927559a",
   "metadata": {},
   "outputs": [
    {
     "ename": "RecursionError",
     "evalue": "maximum recursion depth exceeded in comparison",
     "output_type": "error",
     "traceback": [
      "\u001b[0;31m---------------------------------------------------------------------------\u001b[0m",
      "\u001b[0;31mRecursionError\u001b[0m                            Traceback (most recent call last)",
      "Input \u001b[0;32mIn [48]\u001b[0m, in \u001b[0;36m<cell line: 1>\u001b[0;34m()\u001b[0m\n\u001b[0;32m----> 1\u001b[0m \u001b[43mx\u001b[49m\u001b[43m \u001b[49m\u001b[38;5;241;43m==\u001b[39;49m\u001b[43m \u001b[49m\u001b[43my\u001b[49m\n",
      "\u001b[0;31mRecursionError\u001b[0m: maximum recursion depth exceeded in comparison"
     ]
    }
   ],
   "source": [
    "x == y"
   ]
  },
  {
   "cell_type": "code",
   "execution_count": 51,
   "id": "06592b90-cd39-4ffe-91da-fca6b6a5ad26",
   "metadata": {},
   "outputs": [],
   "source": [
    "t1 = (1,2,3)\n",
    "t2 = copy.deepcopy(t1)"
   ]
  },
  {
   "cell_type": "code",
   "execution_count": 52,
   "id": "7b68050c-666c-43fd-afc2-5542c9f3de53",
   "metadata": {},
   "outputs": [
    {
     "data": {
      "text/plain": [
       "140367323207808"
      ]
     },
     "execution_count": 52,
     "metadata": {},
     "output_type": "execute_result"
    }
   ],
   "source": [
    "id(t1)"
   ]
  },
  {
   "cell_type": "code",
   "execution_count": 53,
   "id": "ee9e9452-683b-43b4-adf1-b16ba0e1f4c1",
   "metadata": {},
   "outputs": [
    {
     "data": {
      "text/plain": [
       "140367323207808"
      ]
     },
     "execution_count": 53,
     "metadata": {},
     "output_type": "execute_result"
    }
   ],
   "source": [
    "id(t1)"
   ]
  },
  {
   "cell_type": "code",
   "execution_count": 55,
   "id": "c891d473-bc5a-4d13-b5b2-d7aedd2e190f",
   "metadata": {},
   "outputs": [
    {
     "data": {
      "text/plain": [
       "True"
      ]
     },
     "execution_count": 55,
     "metadata": {},
     "output_type": "execute_result"
    }
   ],
   "source": [
    "t1 is t2"
   ]
  },
  {
   "cell_type": "code",
   "execution_count": null,
   "id": "fccadac0-3007-4031-a576-181d0d8c18d6",
   "metadata": {},
   "outputs": [
    {
     "data": {
      "text/plain": [
       "True"
      ]
     },
     "execution_count": 56,
     "metadata": {},
     "output_type": "execute_result"
    }
   ],
   "source": [
    "t1 == t2"
   ]
  }
 ],
 "metadata": {
  "kernelspec": {
   "display_name": "Python 3 (ipykernel)",
   "language": "python",
   "name": "python3"
  },
  "language_info": {
   "codemirror_mode": {
    "name": "ipython",
    "version": 3
   },
   "file_extension": ".py",
   "mimetype": "text/x-python",
   "name": "python",
   "nbconvert_exporter": "python",
   "pygments_lexer": "ipython3",
   "version": "3.8.13"
  }
 },
 "nbformat": 4,
 "nbformat_minor": 5
}
>>>>>>> 31cb5d170dc13266df0b61c887963c7542a78a7d
