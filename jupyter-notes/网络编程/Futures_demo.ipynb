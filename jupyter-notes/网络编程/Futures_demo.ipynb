{
 "cells": [
  {
   "cell_type": "markdown",
   "id": "8651c588-5e0c-4cdd-941e-6be1f44e8aae",
   "metadata": {},
   "source": [
    "## 单线程版本"
   ]
  },
  {
   "cell_type": "code",
   "execution_count": 8,
   "id": "c299bce2-bfa2-4e76-a4ed-d6a53f332cf4",
   "metadata": {},
   "outputs": [],
   "source": [
    "import requests\n",
    "import time\n",
    "\n",
    "\n",
    "def download_one(url):\n",
    "    resp = requests.get(url)\n",
    "    print(f\"Read {len(resp.content)} from {url}\")\n",
    "\n",
    "\n",
    "def download_all(sites):\n",
    "    for site in sites:\n",
    "        download_one(site)\n",
    "\n",
    "        \n",
    "def main():\n",
    "    sites = [ \n",
    "        'https://en.wikipedia.org/wiki/Portal:Arts', \n",
    "        'https://en.wikipedia.org/wiki/Portal:History', \n",
    "        'https://en.wikipedia.org/wiki/Portal:Society', \n",
    "        'https://en.wikipedia.org/wiki/Portal:Biography', \n",
    "        'https://en.wikipedia.org/wiki/Portal:Mathematics', \n",
    "        'https://en.wikipedia.org/wiki/Portal:Technology', \n",
    "        'https://en.wikipedia.org/wiki/Portal:Geography', \n",
    "        'https://en.wikipedia.org/wiki/Portal:Science', \n",
    "        'https://en.wikipedia.org/wiki/Computer_science', \n",
    "        'https://en.wikipedia.org/wiki/Python_(programming_language)', \n",
    "        'https://en.wikipedia.org/wiki/Java_(programming_language)', \n",
    "        'https://en.wikipedia.org/wiki/PHP', \n",
    "        'https://en.wikipedia.org/wiki/Node.js', \n",
    "        'https://en.wikipedia.org/wiki/The_C_Programming_Language', \n",
    "        'https://en.wikipedia.org/wiki/Go_(programming_language)' \n",
    "    ]\n",
    "    start_time = time.perf_counter()\n",
    "    download_all(sites)\n",
    "    end_time = time.perf_counter()\n",
    "    print(f\"Download {len(sites)} sites in {end_time - start_time} seconds\")"
   ]
  },
  {
   "cell_type": "code",
   "execution_count": null,
   "id": "4b7986e0-3ac5-4881-b52c-5e4e46a384e2",
   "metadata": {},
   "outputs": [],
   "source": [
    "# main()"
   ]
  },
  {
   "cell_type": "markdown",
   "id": "6b187781-cc63-4ae1-8bec-ad1239e02e7d",
   "metadata": {},
   "source": [
    "## 多线程版本"
   ]
  },
  {
   "cell_type": "code",
   "execution_count": null,
   "id": "36a20075-f757-4784-8623-9ca6d0615511",
   "metadata": {},
   "outputs": [],
   "source": [
    "import concurrent.futures\n",
    "import requests\n",
    "import threading\n",
    "import time\n",
    "\n",
    "def download_one(url):\n",
    "    resp = requests.get(url)\n",
    "    print(f\"Read {len(resp.content)} from {url}\")\n",
    "\n",
    "def download_all(sites):\n",
    "    with concurrent.futures.ThreadPoolExecutor(max_workers=5) as executor:\n",
    "        executor.map(download_one, sites)\n",
    "        \n",
    "        \n",
    "def main():\n",
    "    sites = [ \n",
    "        'https://en.wikipedia.org/wiki/Portal:Arts', \n",
    "        'https://en.wikipedia.org/wiki/Portal:History', \n",
    "        'https://en.wikipedia.org/wiki/Portal:Society', \n",
    "        'https://en.wikipedia.org/wiki/Portal:Biography', \n",
    "        'https://en.wikipedia.org/wiki/Portal:Mathematics', \n",
    "        'https://en.wikipedia.org/wiki/Portal:Technology', \n",
    "        'https://en.wikipedia.org/wiki/Portal:Geography', \n",
    "        'https://en.wikipedia.org/wiki/Portal:Science', \n",
    "        'https://en.wikipedia.org/wiki/Computer_science', \n",
    "        'https://en.wikipedia.org/wiki/Python_(programming_language)', \n",
    "        'https://en.wikipedia.org/wiki/Java_(programming_language)', \n",
    "        'https://en.wikipedia.org/wiki/PHP', \n",
    "        'https://en.wikipedia.org/wiki/Node.js', \n",
    "        'https://en.wikipedia.org/wiki/The_C_Programming_Language', \n",
    "        'https://en.wikipedia.org/wiki/Go_(programming_language)' \n",
    "    ]\n",
    "    start_time = time.perf_counter()\n",
    "    download_all(sites)\n",
    "    end_time = time.perf_counter()\n",
    "    print(f\"Download {len(sites)} sites in {end_time - start_time} seconds\")"
   ]
  },
  {
   "cell_type": "markdown",
   "id": "bd4cc014-2da7-4121-bcfc-9be7ed268797",
   "metadata": {},
   "source": [
    "## 改进版"
   ]
  },
  {
   "cell_type": "code",
   "execution_count": null,
   "id": "bb3664dc-f207-4c95-8aa1-8ecc0f5c7b8e",
   "metadata": {},
   "outputs": [],
   "source": [
    "import concurrent.futures\n",
    "import requests\n",
    "import time\n",
    "\n",
    "\n",
    "def download_one(url):\n",
    "    resp = requests.get(url)\n",
    "    print(f\"Read {len(resp.content)} from {url}\")\n",
    "\n",
    "def download_all(sites):\n",
    "    with concurrent.futures.ThreadPoolExecutor(max_workers=5) as executor:\n",
    "        to_do = []\n",
    "        for site in sites:\n",
    "            future = executor.submit(download_one, site)\n",
    "            to_do.append(future)\n",
    "        \n",
    "        for future in concurrent.futures.as_completed(to_do):\n",
    "            future.result()\n",
    "            \n",
    "\n",
    "def main():\n",
    "    sites = [ \n",
    "        'https://en.wikipedia.org/wiki/Portal:Arts', \n",
    "        'https://en.wikipedia.org/wiki/Portal:History', \n",
    "        'https://en.wikipedia.org/wiki/Portal:Society', \n",
    "        'https://en.wikipedia.org/wiki/Portal:Biography', \n",
    "        'https://en.wikipedia.org/wiki/Portal:Mathematics', \n",
    "        'https://en.wikipedia.org/wiki/Portal:Technology', \n",
    "        'https://en.wikipedia.org/wiki/Portal:Geography', \n",
    "        'https://en.wikipedia.org/wiki/Portal:Science', \n",
    "        'https://en.wikipedia.org/wiki/Computer_science', \n",
    "        'https://en.wikipedia.org/wiki/Python_(programming_language)', \n",
    "        'https://en.wikipedia.org/wiki/Java_(programming_language)', \n",
    "        'https://en.wikipedia.org/wiki/PHP', \n",
    "        'https://en.wikipedia.org/wiki/Node.js', \n",
    "        'https://en.wikipedia.org/wiki/The_C_Programming_Language', \n",
    "        'https://en.wikipedia.org/wiki/Go_(programming_language)' \n",
    "    ]\n",
    "    start_time = time.perf_counter()\n",
    "    download_all(sites)\n",
    "    end_time = time.perf_counter()\n",
    "    print(f\"Download {len(sites)} sites in {end_time - start_time} seconds\")"
   ]
  }
 ],
 "metadata": {
  "kernelspec": {
   "display_name": "Python 3 (ipykernel)",
   "language": "python",
   "name": "python3"
  },
  "language_info": {
   "codemirror_mode": {
    "name": "ipython",
    "version": 3
   },
   "file_extension": ".py",
   "mimetype": "text/x-python",
   "name": "python",
   "nbconvert_exporter": "python",
   "pygments_lexer": "ipython3",
   "version": "3.8.13"
  }
 },
 "nbformat": 4,
 "nbformat_minor": 5
}
