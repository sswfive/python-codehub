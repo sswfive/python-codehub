{
 "cells": [
  {
   "cell_type": "markdown",
   "id": "f297c5cf-c778-4e8e-9b57-973e86788095",
   "metadata": {},
   "source": [
    "## 非协程实现"
   ]
  },
  {
   "cell_type": "code",
   "execution_count": 5,
   "id": "bddce0b9-51d0-4a88-8a0d-f674ff62d3c6",
   "metadata": {},
   "outputs": [],
   "source": [
    "import time\n",
    "\n",
    "def crawl_page(url):\n",
    "    print(f\"crawling:{url}\")\n",
    "    sleep_time = int(url.split('_')[-1])  # sleep_time取决url后面的数字\n",
    "    time.sleep(sleep_time)\n",
    "    print(f\"OK：{url}\")\n",
    "\n",
    "\n",
    "def main(urls):\n",
    "    for url in urls:\n",
    "        crawl_page(url)"
   ]
  },
  {
   "cell_type": "code",
   "execution_count": 6,
   "id": "5fc2d66b-d197-4377-bc03-02810afe36eb",
   "metadata": {},
   "outputs": [
    {
     "name": "stdout",
     "output_type": "stream",
     "text": [
      "crawling:url_1\n",
      "OK：url_1\n",
      "crawling:url_2\n",
      "OK：url_2\n",
      "crawling:url_3\n",
      "OK：url_3\n",
      "crawling:url_4\n",
      "OK：url_4\n",
      "CPU times: user 3.96 ms, sys: 1.93 ms, total: 5.89 ms\n",
      "Wall time: 10 s\n"
     ]
    }
   ],
   "source": [
    "%time main(['url_1', 'url_2', 'url_3', 'url_4'])"
   ]
  },
  {
   "cell_type": "markdown",
   "id": "151cdb3e-27e2-491d-9d8f-751d1ba57075",
   "metadata": {},
   "source": [
    "## 协程实现(同步协程)"
   ]
  },
  {
   "cell_type": "code",
   "execution_count": 22,
   "id": "998206a3-08fd-484a-ae9f-a14fbc3ec932",
   "metadata": {},
   "outputs": [
    {
     "name": "stdout",
     "output_type": "stream",
     "text": [
      "Requirement already satisfied: nest_asyncio in /usr/local/Caskroom/miniforge/base/envs/ml_py38env/lib/python3.8/site-packages (1.5.5)\n"
     ]
    }
   ],
   "source": [
    "# import asyncio\n",
    "\n",
    "# asyncio.get_event_loop()\n",
    "\n",
    "!pip install nest_asyncio\n",
    "import nest_asyncio\n",
    "nest_asyncio.apply()"
   ]
  },
  {
   "cell_type": "code",
   "execution_count": 27,
   "id": "dd6135a7-bd8d-4c55-bd3f-3c447b9b5661",
   "metadata": {},
   "outputs": [],
   "source": [
    "import asyncio\n",
    "\n",
    "async def crawl_page(url):\n",
    "    print(f\"crawling:{url}\")\n",
    "    sleep_time = int(url.split('_')[-1])\n",
    "    await asyncio.sleep(sleep_time)\n",
    "    print(f\"OK：{url}\")\n",
    "    \n",
    "async def main(urls):\n",
    "    for url in urls:\n",
    "        await crawl_page(url)"
   ]
  },
  {
   "cell_type": "code",
   "execution_count": 28,
   "id": "01ec2cdb-d80a-41b7-adcb-d1f74590900d",
   "metadata": {},
   "outputs": [
    {
     "name": "stdout",
     "output_type": "stream",
     "text": [
      "crawling:url_1\n",
      "OK：url_1\n",
      "crawling:url_2\n",
      "OK：url_2\n",
      "crawling:url_3\n",
      "OK：url_3\n",
      "crawling:url_4\n",
      "OK：url_4\n",
      "CPU times: user 5.84 ms, sys: 2.59 ms, total: 8.43 ms\n",
      "Wall time: 10 s\n"
     ]
    }
   ],
   "source": [
    "%time asyncio.run(main(['url_1', 'url_2', 'url_3', 'url_4']))\n",
    "# %time await main(['url_1', 'url_2', 'url_3', 'url_4'])"
   ]
  },
  {
   "cell_type": "markdown",
   "id": "004dd4ff-bd33-47e0-8745-44c095f4b526",
   "metadata": {},
   "source": [
    "## 异步协程"
   ]
  },
  {
   "cell_type": "code",
   "execution_count": 31,
   "id": "341c18d0-d085-4ff7-bf98-51cb759bc372",
   "metadata": {},
   "outputs": [],
   "source": [
    "import asyncio\n",
    "\n",
    "async def crwal_page(url):\n",
    "    print(f\"crawling:{url}\")\n",
    "    sleep_time = int(url.split('_')[-1])\n",
    "    await asyncio.sleep(sleep_time)\n",
    "    print(f\"OK：{url}\")\n",
    "    \n",
    "\n",
    "async def main(urls):\n",
    "    tasks = [asyncio.create_task(crwal_page(url)) for url in urls]  # 通过此方法创建任务\n",
    "    for task in tasks:\n",
    "        await task"
   ]
  },
  {
   "cell_type": "code",
   "execution_count": 32,
   "id": "95482829-065b-43ba-8b10-9acd35a3b65a",
   "metadata": {},
   "outputs": [
    {
     "name": "stdout",
     "output_type": "stream",
     "text": [
      "crawling:url_1\n",
      "crawling:url_2\n",
      "crawling:url_3\n",
      "crawling:url_4\n",
      "OK：url_1\n",
      "OK：url_2\n",
      "OK：url_3\n",
      "OK：url_4\n",
      "CPU times: user 7.64 ms, sys: 3.12 ms, total: 10.8 ms\n",
      "Wall time: 4 s\n"
     ]
    }
   ],
   "source": [
    "%time asyncio.run(main(['url_1', 'url_2', 'url_3', 'url_4']))"
   ]
  },
  {
   "cell_type": "code",
   "execution_count": null,
   "id": "b664bf64-6379-4b26-ae5c-52e8b76445bc",
   "metadata": {},
   "outputs": [],
   "source": []
  },
  {
   "cell_type": "code",
   "execution_count": 34,
   "id": "e0b660b3-cac4-450e-92ce-b9191cdcfa6a",
   "metadata": {},
   "outputs": [],
   "source": [
    "import asyncio\n",
    "\n",
    "async def crwal_page(url):\n",
    "    print(f\"crawling:{url}\")\n",
    "    sleep_time = int(url.split('_')[-1])\n",
    "    await asyncio.sleep(sleep_time)\n",
    "    print(f\"OK：{url}\")\n",
    "    \n",
    "\n",
    "async def main(urls):\n",
    "    tasks = [asyncio.create_task(crwal_page(url)) for url in urls]  # 通过此方法创建任务\n",
    "    await asyncio.gather(*tasks)"
   ]
  },
  {
   "cell_type": "code",
   "execution_count": 35,
   "id": "3978209d-d8e4-4f2f-b6d1-a71e550a2c72",
   "metadata": {},
   "outputs": [
    {
     "name": "stdout",
     "output_type": "stream",
     "text": [
      "crawling:url_1\n",
      "crawling:url_2\n",
      "crawling:url_3\n",
      "crawling:url_4\n",
      "OK：url_1\n",
      "OK：url_2\n",
      "OK：url_3\n",
      "OK：url_4\n",
      "CPU times: user 7.23 ms, sys: 2.83 ms, total: 10.1 ms\n",
      "Wall time: 4 s\n"
     ]
    }
   ],
   "source": [
    "%time asyncio.run(main(['url_1', 'url_2', 'url_3', 'url_4']))"
   ]
  },
  {
   "cell_type": "markdown",
   "id": "c11078b7-5f5f-4445-a4e6-ef6b57ac06fa",
   "metadata": {},
   "source": [
    "## 协程运行时"
   ]
  },
  {
   "cell_type": "code",
   "execution_count": 38,
   "id": "7ad6f985-28ec-47d7-b12d-490305884437",
   "metadata": {},
   "outputs": [],
   "source": [
    "import asyncio\n",
    "\n",
    "async def worker_1():\n",
    "    print(\"worker_1 start\")\n",
    "    await asyncio.sleep(1)\n",
    "    print(\"worker_1 done\")\n",
    "    \n",
    "async def worker_2():\n",
    "    print(\"worker_2 start\")\n",
    "    await asyncio.sleep(2)\n",
    "    print(\"worker_2 done\")\n",
    "    \n",
    "async def main():\n",
    "    print(\"before await\")\n",
    "    await worker_1()\n",
    "    print(\"awaited worker_1\")\n",
    "    await worker_2()\n",
    "    print(\"awaited worker_2\")"
   ]
  },
  {
   "cell_type": "code",
   "execution_count": 39,
   "id": "a97bf640-0039-496e-8c59-cbcd5f544eb1",
   "metadata": {},
   "outputs": [
    {
     "name": "stdout",
     "output_type": "stream",
     "text": [
      "before await\n",
      "worker_1 start\n",
      "worker_1 done\n",
      "awaited worker_1\n",
      "worker_2 start\n",
      "worker_2 done\n",
      "awaited worker_2\n",
      "CPU times: user 3.81 ms, sys: 2.13 ms, total: 5.94 ms\n",
      "Wall time: 3 s\n"
     ]
    }
   ],
   "source": [
    "%time asyncio.run(main())"
   ]
  },
  {
   "cell_type": "code",
   "execution_count": null,
   "id": "9afd3ec6-ff18-4606-adc5-d4b29e808193",
   "metadata": {},
   "outputs": [],
   "source": []
  },
  {
   "cell_type": "code",
   "execution_count": 42,
   "id": "8985c738-a71d-4718-b68e-47fc90322b4e",
   "metadata": {},
   "outputs": [],
   "source": [
    "import asyncio\n",
    "\n",
    "async def worker_1():\n",
    "    print(\"worker_1 start\")\n",
    "    await asyncio.sleep(1)\n",
    "    print(\"worker_1 done\")\n",
    "    \n",
    "async def worker_2():\n",
    "    print(\"worker_2 start\")\n",
    "    await asyncio.sleep(2)\n",
    "    print(\"worker_2 done\")\n",
    "    \n",
    "async def main():\n",
    "    task1 = asyncio.create_task(worker_1())\n",
    "    task2 = asyncio.create_task(worker_2())\n",
    "    print(\"before await\")\n",
    "    await task1\n",
    "    print(\"awaited worker_1\")\n",
    "    await task2\n",
    "    print(\"awaited worker_2\")"
   ]
  },
  {
   "cell_type": "code",
   "execution_count": 43,
   "id": "009b3be7-aa4e-4015-8f41-0b01845fd63e",
   "metadata": {},
   "outputs": [
    {
     "name": "stdout",
     "output_type": "stream",
     "text": [
      "before await\n",
      "worker_1 start\n",
      "worker_2 start\n",
      "worker_1 done\n",
      "awaited worker_1\n",
      "worker_2 done\n",
      "awaited worker_2\n",
      "CPU times: user 3.98 ms, sys: 1.78 ms, total: 5.76 ms\n",
      "Wall time: 2 s\n"
     ]
    }
   ],
   "source": [
    "%time asyncio.run(main())"
   ]
  },
  {
   "cell_type": "markdown",
   "id": "ca58b64c-2fc0-40e3-986d-3c180c0ad388",
   "metadata": {},
   "source": []
  },
  {
   "cell_type": "markdown",
   "id": "26ae1d59-5e66-4113-a5f7-c67f1a32e32b",
   "metadata": {},
   "source": [
    "- 给某些协程任务限定运行时间，一旦超时就取消"
   ]
  },
  {
   "cell_type": "code",
   "execution_count": 47,
   "id": "046a9b0f-848f-477c-ac8c-1357a4c14b3b",
   "metadata": {},
   "outputs": [],
   "source": [
    "import asyncio\n",
    "\n",
    "async def worker_1():\n",
    "    await asyncio.sleep(1)\n",
    "    return 1\n",
    "\n",
    "async def worker_2():\n",
    "    await asyncio.sleep(2)\n",
    "    return 2 / 0\n",
    "\n",
    "async def worker_3():\n",
    "    await asyncio.sleep(3)\n",
    "    return 3\n",
    "\n",
    "async def main():\n",
    "    task1 = asyncio.create_task(worker_1())\n",
    "    task2 = asyncio.create_task(worker_2())\n",
    "    task3 = asyncio.create_task(worker_3())\n",
    "    \n",
    "    await asyncio.sleep(2)\n",
    "    task3.cancel()\n",
    "    \n",
    "    res = await asyncio.gather(task1, task2, task3, return_exceptions=True)\n",
    "    print(res)"
   ]
  },
  {
   "cell_type": "code",
   "execution_count": 48,
   "id": "d47e86fb-6838-4d71-8505-5e0dbbd7f65a",
   "metadata": {},
   "outputs": [
    {
     "name": "stdout",
     "output_type": "stream",
     "text": [
      "[1, ZeroDivisionError('division by zero'), CancelledError()]\n",
      "CPU times: user 1.89 ms, sys: 1.28 ms, total: 3.18 ms\n",
      "Wall time: 2 s\n"
     ]
    }
   ],
   "source": [
    "%time asyncio.run(main())"
   ]
  },
  {
   "cell_type": "markdown",
   "id": "b5b95024-e59f-4f42-9e1f-2df1dbd857bc",
   "metadata": {},
   "source": [
    "## 协程实现生产者消费者模型"
   ]
  },
  {
   "cell_type": "code",
   "execution_count": 49,
   "id": "05b5256c-34ae-4a5b-a17d-21d041b83130",
   "metadata": {},
   "outputs": [
    {
     "name": "stdout",
     "output_type": "stream",
     "text": [
      "producer1 put a value: 6\n",
      "producer2 put a value: 1\n",
      "consumer1 get a value: 6\n",
      "consumer2 get a value: 1\n",
      "producer1 put a value: 5\n",
      "producer2 put a value: 10\n",
      "consumer1 get a value: 5\n",
      "consumer2 get a value: 10\n",
      "producer1 put a value: 4\n",
      "producer2 put a value: 2\n",
      "consumer1 get a value: 4\n",
      "consumer2 get a value: 2\n",
      "producer1 put a value: 1\n",
      "producer2 put a value: 6\n",
      "consumer1 get a value: 1\n",
      "consumer2 get a value: 6\n",
      "producer1 put a value: 8\n",
      "producer2 put a value: 3\n",
      "consumer1 get a value: 8\n",
      "consumer2 get a value: 3\n",
      "CPU times: user 8.75 ms, sys: 2.68 ms, total: 11.4 ms\n",
      "Wall time: 10 s\n"
     ]
    }
   ],
   "source": [
    "import asyncio\n",
    "import random\n",
    "\n",
    "\n",
    "async def consumer(queue, id):\n",
    "    while True:\n",
    "        value = await queue.get()\n",
    "        print(f\"{id} get a value: {value}\")\n",
    "        await asyncio.sleep(1)\n",
    "        \n",
    "async def producer(queue, id):\n",
    "    for i in range(5):\n",
    "        value = random.randint(1, 10)\n",
    "        await queue.put(value)\n",
    "        print(f\"{id} put a value: {value}\")\n",
    "        await asyncio.sleep(1)\n",
    "        \n",
    "async def main():\n",
    "    queue = asyncio.Queue()\n",
    "    \n",
    "    consumer1 = asyncio.create_task(consumer(queue, 'consumer1'))\n",
    "    consumer2 = asyncio.create_task(consumer(queue, 'consumer2'))\n",
    "    \n",
    "    producer1 = asyncio.create_task(producer(queue, 'producer1'))\n",
    "    producer2 = asyncio.create_task(producer(queue, 'producer2'))\n",
    "    \n",
    "    await asyncio.sleep(10)\n",
    "    consumer1.cancel()\n",
    "    consumer2.cancel()\n",
    "    \n",
    "    await asyncio.gather(consumer1, consumer2, producer1, producer2, return_exceptions=True)\n",
    "\n",
    "%time asyncio.run(main())\n"
   ]
  },
  {
   "cell_type": "markdown",
   "id": "c9c34f25-cab5-4ca1-9d4e-5896dfecf96c",
   "metadata": {},
   "source": [
    "## 豆瓣近日推荐电影爬虫\n",
    "\n",
    "### 同步版本"
   ]
  },
  {
   "cell_type": "code",
   "execution_count": 76,
   "id": "6a2c6cb8-e572-4e57-b6e9-d5a9c9bbe9bf",
   "metadata": {},
   "outputs": [],
   "source": [
    "import requests\n",
    "from bs4 import BeautifulSoup\n",
    "\n",
    "\n",
    "head = {'User-Agent': 'test'}\n",
    "\n",
    "def main():\n",
    "    url = \"https://movie.douban.com/cinema/later/beijing/\"\n",
    "    init_page = requests.get(url, headers=head).content\n",
    "    init_soup = BeautifulSoup(init_page, 'lxml')\n",
    "    \n",
    "    all_movies = init_soup.find('div', id=\"showing-soon\")\n",
    "    for each_movie in all_movies.find_all('div', class_=\"item\"):\n",
    "        all_a_tag = each_movie.find_all('a')\n",
    "        all_li_tag = each_movie.find_all('li')\n",
    "        \n",
    "        movie_name = all_a_tag[1].text\n",
    "        url_to_fetch = all_a_tag[1]['href']\n",
    "        movie_date = all_li_tag[0].text\n",
    "        \n",
    "        resp_item = requests.get(url_to_fetch).content\n",
    "        soup_item = BeautifulSoup(resp_item, 'lxml')\n",
    "        img_tag = soup_item.find(\"img\")\n",
    "        \n",
    "        # print(f\"{movie_name} {movie_date} {img_tag['src']}\")\n",
    "        print(f\"{movie_name} {movie_date}\")"
   ]
  },
  {
   "cell_type": "code",
   "execution_count": 77,
   "id": "f09847e8-6fc2-4bbe-9fed-b726e06c958c",
   "metadata": {},
   "outputs": [
    {
     "name": "stdout",
     "output_type": "stream",
     "text": [
      "我的非凡父母 09月02日\n",
      "世间有她 09月09日\n",
      "海的尽头是草原 09月09日\n",
      "断网 09月09日\n",
      "还是觉得你最好 09月09日\n",
      "重回地球 09月09日\n",
      "我要和你在一起 09月09日\n",
      "狼群 09月09日\n",
      "请别相信她 09月09日\n",
      "妈妈！ 09月10日\n",
      "青蛙王国之极限运动 09月10日\n",
      "热汤 09月16日\n",
      "追梦少年 09月16日\n",
      "撼沙 10月01日\n",
      "红孩儿之初生牛犊 10月01日\n",
      "我是霸王龙 10月01日\n",
      "小美人鱼之大海怪传说 10月01日\n",
      "新灰姑娘2 10月01日\n",
      "绑架游戏 12月23日\n",
      "龙马精神 12月31日\n",
      "透明侠侣 12月31日\n",
      "绝望主夫 12月31日\n",
      "CPU times: user 368 ms, sys: 24 ms, total: 392 ms\n",
      "Wall time: 5.44 s\n"
     ]
    }
   ],
   "source": [
    "%time main()"
   ]
  },
  {
   "cell_type": "markdown",
   "id": "2e1b49f1-51e1-48b4-b3f7-722a44bd222b",
   "metadata": {},
   "source": [
    "### 协程版本"
   ]
  },
  {
   "cell_type": "code",
   "execution_count": 58,
   "id": "ad2ae2a5-88f9-4bb7-a9f7-95295a9a18d5",
   "metadata": {},
   "outputs": [],
   "source": [
    "# !pip install aiohttp"
   ]
  },
  {
   "cell_type": "code",
   "execution_count": 61,
   "id": "8a97f0f5-b624-4c2a-a816-5635cea7c646",
   "metadata": {},
   "outputs": [
    {
     "name": "stdout",
     "output_type": "stream",
     "text": [
      "我的非凡父母 09月02日 https://img1.doubanio.com/view/photo/s_ratio_poster/public/p2877643228.jpg\n",
      "世间有她 09月09日 https://img9.doubanio.com/view/photo/s_ratio_poster/public/p2878770125.jpg\n",
      "海的尽头是草原 09月09日 https://img1.doubanio.com/view/photo/s_ratio_poster/public/p2877827228.jpg\n",
      "断网 09月09日 https://img9.doubanio.com/view/photo/s_ratio_poster/public/p2872591745.jpg\n",
      "还是觉得你最好 09月09日 https://img9.doubanio.com/view/photo/s_ratio_poster/public/p2878576476.jpg\n",
      "重回地球 09月09日 https://img2.doubanio.com/view/photo/s_ratio_poster/public/p2872616271.jpg\n",
      "我要和你在一起 09月09日 https://img2.doubanio.com/view/photo/s_ratio_poster/public/p2879022921.jpg\n",
      "狼群 09月09日 https://img2.doubanio.com/view/photo/s_ratio_poster/public/p2878713351.jpg\n",
      "请别相信她 09月09日 https://img2.doubanio.com/view/photo/s_ratio_poster/public/p2876821751.jpg\n",
      "妈妈！ 09月10日 https://img1.doubanio.com/view/photo/s_ratio_poster/public/p2878837838.jpg\n",
      "青蛙王国之极限运动 09月10日 https://img1.doubanio.com/view/photo/s_ratio_poster/public/p2876826798.jpg\n",
      "热汤 09月16日 https://img2.doubanio.com/view/photo/s_ratio_poster/public/p2868354253.jpg\n",
      "追梦少年 09月16日 https://img9.doubanio.com/view/photo/s_ratio_poster/public/p2674282554.jpg\n",
      "撼沙 10月01日 https://img9.doubanio.com/view/photo/s_ratio_poster/public/p2679091306.jpg\n",
      "红孩儿之初生牛犊 10月01日 https://img1.doubanio.com/view/photo/s_ratio_poster/public/p2873780377.jpg\n",
      "我是霸王龙 10月01日 https://img9.doubanio.com/view/photo/s_ratio_poster/public/p2877233655.jpg\n",
      "小美人鱼之大海怪传说 10月01日 https://img1.doubanio.com/view/photo/s_ratio_poster/public/p2870814829.jpg\n",
      "新灰姑娘2 10月01日 https://img3.doubanio.com/view/photo/s_ratio_poster/public/p2875592070.jpg\n",
      "绑架游戏 12月23日 https://img1.doubanio.com/view/photo/s_ratio_poster/public/p2869898539.jpg\n",
      "龙马精神 12月31日 https://img9.doubanio.com/view/photo/s_ratio_poster/public/p2867141405.jpg\n",
      "透明侠侣 12月31日 https://img1.doubanio.com/view/photo/s_ratio_poster/public/p2876021348.jpg\n",
      "绝望主夫 12月31日 https://img2.doubanio.com/view/photo/s_ratio_poster/public/p2877233173.jpg\n",
      "CPU times: user 792 ms, sys: 31.3 ms, total: 824 ms\n",
      "Wall time: 2.86 s\n"
     ]
    }
   ],
   "source": [
    "\n",
    "import asyncio\n",
    "import aiohttp\n",
    "\n",
    "from bs4 import BeautifulSoup\n",
    "\n",
    "header={\"User-Agent\": \"Mozilla/5.0 (Windows NT 6.1; Win64; x64) AppleWebKit/537.36 (KHTML, like Gecko) Chrome/74.0.3729.157 Safari/537.36\"}\n",
    "\n",
    "async def fetch_content(url):\n",
    "    async with aiohttp.ClientSession(\n",
    "        headers=header, connector=aiohttp.TCPConnector(ssl=False)\n",
    "    ) as session:\n",
    "        async with session.get(url) as response:\n",
    "            return await response.text()\n",
    "\n",
    "async def main():\n",
    "    url = \"https://movie.douban.com/cinema/later/beijing/\"\n",
    "    init_page = await fetch_content(url)\n",
    "    init_soup = BeautifulSoup(init_page, 'lxml')\n",
    "\n",
    "    movie_names, urls_to_fetch, movie_dates = [], [], []\n",
    "\n",
    "    all_movies = init_soup.find('div', id=\"showing-soon\")\n",
    "    for each_movie in all_movies.find_all('div', class_=\"item\"):\n",
    "        all_a_tag = each_movie.find_all('a')\n",
    "        all_li_tag = each_movie.find_all('li')\n",
    "\n",
    "        movie_names.append(all_a_tag[1].text)\n",
    "        urls_to_fetch.append(all_a_tag[1]['href'])\n",
    "        movie_dates.append(all_li_tag[0].text)\n",
    "\n",
    "    tasks = [fetch_content(url) for url in urls_to_fetch]\n",
    "    pages = await asyncio.gather(*tasks)\n",
    "\n",
    "    for movie_name, movie_date, page in zip(movie_names, movie_dates, pages):\n",
    "        soup_item = BeautifulSoup(page, 'lxml')\n",
    "        img_tag = soup_item.find('img')\n",
    "\n",
    "        print('{} {} {}'.format(movie_name, movie_date, img_tag['src']))\n",
    "\n",
    "%time asyncio.run(main())"
   ]
  },
  {
   "cell_type": "code",
   "execution_count": null,
   "id": "9ca1b392-8fc3-4f62-93d0-c031d5cb9abc",
   "metadata": {},
   "outputs": [],
   "source": []
  }
 ],
 "metadata": {
  "kernelspec": {
   "display_name": "Python 3 (ipykernel)",
   "language": "python",
   "name": "python3"
  },
  "language_info": {
   "codemirror_mode": {
    "name": "ipython",
    "version": 3
   },
   "file_extension": ".py",
   "mimetype": "text/x-python",
   "name": "python",
   "nbconvert_exporter": "python",
   "pygments_lexer": "ipython3",
   "version": "3.8.13"
  }
 },
 "nbformat": 4,
 "nbformat_minor": 5
}
