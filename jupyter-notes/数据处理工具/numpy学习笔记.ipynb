{
 "cells": [
  {
   "cell_type": "code",
   "execution_count": 2,
   "id": "a675f232-364c-468d-ac99-6b7a9b146917",
   "metadata": {},
   "outputs": [],
   "source": [
    "import numpy as np"
   ]
  },
  {
   "cell_type": "code",
   "execution_count": 2,
   "id": "29f11b1e-deaa-441e-ba1f-4e48db96dd18",
   "metadata": {},
   "outputs": [],
   "source": [
    "import random\n",
    "import time "
   ]
  },
  {
   "cell_type": "code",
   "execution_count": 3,
   "id": "8580aa5f-e11c-4798-a9eb-f80e8d38023f",
   "metadata": {},
   "outputs": [],
   "source": [
    "a = []\n",
    "\n",
    "for i in range(1000000):\n",
    "    a.append(random.random())\n",
    "\n",
    "t1 = time.time()\n",
    "sum1 = sum(a)\n",
    "t2 = time.time()"
   ]
  },
  {
   "cell_type": "code",
   "execution_count": 4,
   "id": "fc0493cf-4ef6-4660-9be1-adfb2206e996",
   "metadata": {},
   "outputs": [],
   "source": [
    "b = np.array(a)\n",
    "t4 = time.time()\n",
    "sum3  = np.sum(b)\n",
    "t5 = time.time()"
   ]
  },
  {
   "cell_type": "code",
   "execution_count": 5,
   "id": "1ebce4bb-da78-40da-b480-078a9b37154d",
   "metadata": {},
   "outputs": [
    {
     "name": "stdout",
     "output_type": "stream",
     "text": [
      "0.005972862243652344 0.0005621910095214844\n"
     ]
    }
   ],
   "source": [
    "print(t2-t1, t5-t4)"
   ]
  },
  {
   "cell_type": "markdown",
   "id": "9826d65c-5b88-40cf-831d-6bf1dd6920bd",
   "metadata": {},
   "source": [
    "## 属性"
   ]
  },
  {
   "cell_type": "markdown",
   "id": "fc22f590-1d41-474d-ab71-a648330c34e4",
   "metadata": {},
   "source": [
    "- ndarray.shape\t数组维度的元组\n",
    "- ndarray.flags\t有关阵列内存布局的信息\n",
    "- ndarray.ndim\t数组维数\n",
    "- ndarray.size\t数组中的元素数量\n",
    "- ndarray.itemsize\t一个数组元素的长度（字节）\n",
    "- ndarray.nbytes\t数组元素消耗的总字节数"
   ]
  },
  {
   "cell_type": "code",
   "execution_count": 8,
   "id": "cf15e3a3-7ad0-41cb-99ae-8b2fc6ccc930",
   "metadata": {},
   "outputs": [],
   "source": [
    "a = np.array([[1,2,3],[4,5,6]])\n",
    "\n",
    "b = np.array([1,2,3,4])\n",
    "\n",
    "c = np.array([[[1,2,3],[4,5,6]],[[1,2,3],[4,5,6]]])"
   ]
  },
  {
   "cell_type": "code",
   "execution_count": 10,
   "id": "b0bbdf06-bb7f-4329-9ff3-08b8919acdb6",
   "metadata": {},
   "outputs": [
    {
     "data": {
      "text/plain": [
       "dtype('int64')"
      ]
     },
     "execution_count": 10,
     "metadata": {},
     "output_type": "execute_result"
    }
   ],
   "source": [
    "a.dtype"
   ]
  },
  {
   "cell_type": "code",
   "execution_count": 11,
   "id": "d5bc9acc-9fed-4f5f-bb20-50b573e1a8cc",
   "metadata": {},
   "outputs": [
    {
     "data": {
      "text/plain": [
       "6"
      ]
     },
     "execution_count": 11,
     "metadata": {},
     "output_type": "execute_result"
    }
   ],
   "source": [
    "# 元素的个数\n",
    "a.size "
   ]
  },
  {
   "cell_type": "code",
   "execution_count": 12,
   "id": "4e69ee68-c970-4211-b680-d515869ead98",
   "metadata": {},
   "outputs": [
    {
     "data": {
      "text/plain": [
       "48"
      ]
     },
     "execution_count": 12,
     "metadata": {},
     "output_type": "execute_result"
    }
   ],
   "source": [
    "# 总字节数\n",
    "a.nbytes"
   ]
  },
  {
   "cell_type": "code",
   "execution_count": 13,
   "id": "82919623-761e-40a9-b3d5-c447feac52f0",
   "metadata": {},
   "outputs": [
    {
     "data": {
      "text/plain": [
       "8"
      ]
     },
     "execution_count": 13,
     "metadata": {},
     "output_type": "execute_result"
    }
   ],
   "source": [
    "# 一个元素的长度\n",
    "a.itemsize"
   ]
  },
  {
   "cell_type": "code",
   "execution_count": 14,
   "id": "1af81d5e-c813-4d6d-b98c-fed3cd95a19d",
   "metadata": {},
   "outputs": [
    {
     "data": {
      "text/plain": [
       "(2, 3)"
      ]
     },
     "execution_count": 14,
     "metadata": {},
     "output_type": "execute_result"
    }
   ],
   "source": [
    "# 形状比较\n",
    "a.shape   # 二维数组"
   ]
  },
  {
   "cell_type": "code",
   "execution_count": 15,
   "id": "0f1986d5-11f1-4254-bd69-7262afec96a0",
   "metadata": {},
   "outputs": [
    {
     "data": {
      "text/plain": [
       "(4,)"
      ]
     },
     "execution_count": 15,
     "metadata": {},
     "output_type": "execute_result"
    }
   ],
   "source": [
    "b.shape  # 一维数组"
   ]
  },
  {
   "cell_type": "code",
   "execution_count": 16,
   "id": "a9bda9b4-30a1-472a-b95e-518a824a692b",
   "metadata": {},
   "outputs": [
    {
     "data": {
      "text/plain": [
       "(2, 2, 3)"
      ]
     },
     "execution_count": 16,
     "metadata": {},
     "output_type": "execute_result"
    }
   ],
   "source": [
    "c.shape  # 三维数组"
   ]
  },
  {
   "cell_type": "code",
   "execution_count": 17,
   "id": "36fca01d-b25c-4e1a-ad4b-d3a3c532be67",
   "metadata": {},
   "outputs": [
    {
     "data": {
      "text/plain": [
       "  C_CONTIGUOUS : True\n",
       "  F_CONTIGUOUS : False\n",
       "  OWNDATA : True\n",
       "  WRITEABLE : True\n",
       "  ALIGNED : True\n",
       "  WRITEBACKIFCOPY : False\n",
       "  UPDATEIFCOPY : False"
      ]
     },
     "execution_count": 17,
     "metadata": {},
     "output_type": "execute_result"
    }
   ],
   "source": [
    "a.flags"
   ]
  },
  {
   "cell_type": "markdown",
   "id": "060f79ed-3980-4f04-96d5-34b35c2f1300",
   "metadata": {},
   "source": [
    "### 数组的类型"
   ]
  },
  {
   "cell_type": "code",
   "execution_count": 21,
   "id": "57f690ca-333d-46fa-88b9-3b72bdd36765",
   "metadata": {},
   "outputs": [
    {
     "data": {
      "text/plain": [
       "array([[0, 1],\n",
       "       [2, 3]])"
      ]
     },
     "execution_count": 21,
     "metadata": {},
     "output_type": "execute_result"
    }
   ],
   "source": [
    "x = np.array([[0, 1], [2,3]])\n",
    "x"
   ]
  },
  {
   "cell_type": "code",
   "execution_count": 22,
   "id": "016f58f4-62a6-4c87-81ca-ff0924ac0bcf",
   "metadata": {},
   "outputs": [
    {
     "data": {
      "text/plain": [
       "dtype('int64')"
      ]
     },
     "execution_count": 22,
     "metadata": {},
     "output_type": "execute_result"
    }
   ],
   "source": [
    "x.dtype"
   ]
  },
  {
   "cell_type": "code",
   "execution_count": 23,
   "id": "6d7f17a7-5c89-4595-b62b-0c768a4e0ea4",
   "metadata": {},
   "outputs": [
    {
     "data": {
      "text/plain": [
       "numpy.dtype"
      ]
     },
     "execution_count": 23,
     "metadata": {},
     "output_type": "execute_result"
    }
   ],
   "source": [
    "type(x.dtype)"
   ]
  },
  {
   "cell_type": "markdown",
   "id": "cddb8052-829c-4e06-93af-80fc88335553",
   "metadata": {},
   "source": [
    "### 创建数组指定类型"
   ]
  },
  {
   "cell_type": "code",
   "execution_count": 24,
   "id": "07450a56-9179-41ea-9563-6937af58233f",
   "metadata": {},
   "outputs": [
    {
     "data": {
      "text/plain": [
       "dtype('float32')"
      ]
     },
     "execution_count": 24,
     "metadata": {},
     "output_type": "execute_result"
    }
   ],
   "source": [
    "a = np.array([[1,2,3], [4,5,6]], dtype=np.float32)\n",
    "a.dtype"
   ]
  },
  {
   "cell_type": "code",
   "execution_count": 25,
   "id": "289e5db2-e787-45b4-af18-de7916f5fb0f",
   "metadata": {},
   "outputs": [
    {
     "data": {
      "text/plain": [
       "dtype('S12')"
      ]
     },
     "execution_count": 25,
     "metadata": {},
     "output_type": "execute_result"
    }
   ],
   "source": [
    "arr = np.array(['python','tensorflow','scikit-learn','numpy'],dtype=np.string_)\n",
    "arr.dtype"
   ]
  },
  {
   "cell_type": "markdown",
   "id": "b331db9e-0ef8-47f1-9291-a24399b51003",
   "metadata": {},
   "source": [
    "### 自定义数据结构"
   ]
  },
  {
   "cell_type": "code",
   "execution_count": 27,
   "id": "cd0a0bc0-2053-4431-8349-4fdc6cc054d1",
   "metadata": {},
   "outputs": [
    {
     "data": {
      "text/plain": [
       "dtype([('name', 'S10'), ('height', '<f8')])"
      ]
     },
     "execution_count": 27,
     "metadata": {},
     "output_type": "execute_result"
    }
   ],
   "source": [
    "mytype = np.dtype([(\"name\", np.string_, 10),(\"height\", np.float64)])\n",
    "mytype"
   ]
  },
  {
   "cell_type": "code",
   "execution_count": 28,
   "id": "4400ebb1-7d1d-49fa-a776-eebdd5729d4d",
   "metadata": {},
   "outputs": [
    {
     "data": {
      "text/plain": [
       "array([(b'Sarah', 8.), (b'John', 6.)],\n",
       "      dtype=[('name', 'S10'), ('height', '<f8')])"
      ]
     },
     "execution_count": 28,
     "metadata": {},
     "output_type": "execute_result"
    }
   ],
   "source": [
    "arr = np.array([(\"Sarah\", (8.0)),(\"John\",(6.0))],dtype=mytype)\n",
    "arr"
   ]
  },
  {
   "cell_type": "code",
   "execution_count": 29,
   "id": "32f50be8-ce43-4935-b55d-a81808edc6e3",
   "metadata": {},
   "outputs": [
    {
     "data": {
      "text/plain": [
       "b'Sarah'"
      ]
     },
     "execution_count": 29,
     "metadata": {},
     "output_type": "execute_result"
    }
   ],
   "source": [
    "arr[0][\"name\"]"
   ]
  },
  {
   "cell_type": "code",
   "execution_count": null,
   "id": "f0ad5a34-bf99-4cf7-8dc6-0ac1d33ade92",
   "metadata": {},
   "outputs": [],
   "source": []
  },
  {
   "cell_type": "markdown",
   "id": "17940e39-0204-41c8-90dc-450c1da27a96",
   "metadata": {},
   "source": [
    "## 基本操作"
   ]
  },
  {
   "cell_type": "markdown",
   "id": "7fb89967-d94d-48fa-bbb9-4d1f917254cd",
   "metadata": {},
   "source": [
    "### 创建数组"
   ]
  },
  {
   "cell_type": "markdown",
   "id": "d4d9fb91-1373-46e7-a23c-37362ae4eb88",
   "metadata": {},
   "source": [
    "#### 0和1的数组"
   ]
  },
  {
   "cell_type": "markdown",
   "id": "434a4293-b33c-4ad5-b57f-7ead7130a04d",
   "metadata": {},
   "source": [
    "- empty(shape[, dtype, order])\n",
    "- empty_like(a[, dtype, order, subok])\n",
    "- eye(N[, M, k, dtype, order])\n",
    "- identity(n[, dtype])\n",
    "- ones(shape[, dtype, order])\n",
    "- ones_like(a[, dtype, order, subok])\n",
    "- zeros(shape[, dtype, order])\n",
    "- zeros_like(a[, dtype, order, subok])\n",
    "- full(shape, fill_value[, dtype, order])\n",
    "- full_like(a, fill_value[, dtype, order, subok])"
   ]
  },
  {
   "cell_type": "code",
   "execution_count": 31,
   "id": "29a2d7f8-b164-4687-aa3f-151572f4a09c",
   "metadata": {},
   "outputs": [
    {
     "data": {
      "text/plain": [
       "array([[0., 0., 0., 0.],\n",
       "       [0., 0., 0., 0.],\n",
       "       [0., 0., 0., 0.]])"
      ]
     },
     "execution_count": 31,
     "metadata": {},
     "output_type": "execute_result"
    }
   ],
   "source": [
    "zero = np.zeros([3,4])\n",
    "zero"
   ]
  },
  {
   "cell_type": "markdown",
   "id": "c0c5a21f-3c20-4861-a1cb-439fff81ef51",
   "metadata": {},
   "source": [
    "#### 从现有的数据中创建"
   ]
  },
  {
   "cell_type": "markdown",
   "id": "4bc3c3b2-15e7-469d-83c5-f1f0c137abc3",
   "metadata": {},
   "source": [
    "- array(object[, dtype, copy, order, subok, ndmin])\n",
    "- asarray(a[, dtype, order])- \n",
    "- asanyarray(a[, dtype, order])\n",
    "- ascontiguousarray(a[, dtype])\n",
    "- asmatrix(data[, dtype])\n",
    "- copy(a[, order])"
   ]
  },
  {
   "cell_type": "code",
   "execution_count": 33,
   "id": "6d8d7594-9951-4fda-8ba1-30a01e9f4ab3",
   "metadata": {},
   "outputs": [],
   "source": [
    "a = np.array([[1,2,3],[4,5,6]])"
   ]
  },
  {
   "cell_type": "code",
   "execution_count": 35,
   "id": "eb22af58-4ce5-4716-a9f0-1c946994aa9c",
   "metadata": {},
   "outputs": [
    {
     "data": {
      "text/plain": [
       "array([[1, 2, 3],\n",
       "       [4, 5, 6]])"
      ]
     },
     "execution_count": 35,
     "metadata": {},
     "output_type": "execute_result"
    }
   ],
   "source": [
    "# 从现有的数组中创建\n",
    "a1 = np.array(a)\n",
    "a1"
   ]
  },
  {
   "cell_type": "code",
   "execution_count": 37,
   "id": "bde72bd5-2c25-4199-b9d5-f79c369f7d79",
   "metadata": {},
   "outputs": [
    {
     "data": {
      "text/plain": [
       "array([[1, 2, 3],\n",
       "       [4, 5, 6]])"
      ]
     },
     "execution_count": 37,
     "metadata": {},
     "output_type": "execute_result"
    }
   ],
   "source": [
    "# 相当于索引的形式，并没有真正的创建\n",
    "a2 = np.asanyarray(a)\n",
    "a2"
   ]
  },
  {
   "cell_type": "code",
   "execution_count": 38,
   "id": "c0b7a3e8-944d-4697-bdf0-85801b6d86e5",
   "metadata": {},
   "outputs": [],
   "source": [
    "# 关于array 与asanyarray的不同"
   ]
  },
  {
   "cell_type": "code",
   "execution_count": 39,
   "id": "002593ef-026f-449b-bb2a-d54846ec72d5",
   "metadata": {},
   "outputs": [],
   "source": [
    "data = np.ones([3,4])"
   ]
  },
  {
   "cell_type": "code",
   "execution_count": 40,
   "id": "f11475aa-2163-4fe9-94d7-e44ad6de58b7",
   "metadata": {},
   "outputs": [
    {
     "data": {
      "text/plain": [
       "array([[1., 1., 1., 1.],\n",
       "       [1., 1., 1., 1.],\n",
       "       [1., 1., 1., 1.]])"
      ]
     },
     "execution_count": 40,
     "metadata": {},
     "output_type": "execute_result"
    }
   ],
   "source": [
    "data"
   ]
  },
  {
   "cell_type": "code",
   "execution_count": 41,
   "id": "ba3263b3-431c-452a-8ce8-534a20d3ee7b",
   "metadata": {},
   "outputs": [],
   "source": [
    "data1 = np.array(data)"
   ]
  },
  {
   "cell_type": "code",
   "execution_count": 42,
   "id": "b3c21420-e6c3-4d54-adb9-e9ea7e895aec",
   "metadata": {},
   "outputs": [],
   "source": [
    "data2 = np.asanyarray(data)"
   ]
  },
  {
   "cell_type": "code",
   "execution_count": 43,
   "id": "5f2b2bf2-1fbf-4f07-a9c4-d4648738d1d4",
   "metadata": {},
   "outputs": [
    {
     "data": {
      "text/plain": [
       "(array([[1., 1., 1., 1.],\n",
       "        [1., 1., 1., 1.],\n",
       "        [1., 1., 1., 1.]]),\n",
       " array([[1., 1., 1., 1.],\n",
       "        [1., 1., 1., 1.],\n",
       "        [1., 1., 1., 1.]]))"
      ]
     },
     "execution_count": 43,
     "metadata": {},
     "output_type": "execute_result"
    }
   ],
   "source": [
    "data1, data2"
   ]
  },
  {
   "cell_type": "code",
   "execution_count": 44,
   "id": "03fb3cf7-3cdf-4392-b628-43fabc5e6210",
   "metadata": {},
   "outputs": [],
   "source": [
    "data[1] = 2"
   ]
  },
  {
   "cell_type": "code",
   "execution_count": 45,
   "id": "ac5215f8-bd66-4969-9c4d-7c0faa48ebb3",
   "metadata": {},
   "outputs": [
    {
     "data": {
      "text/plain": [
       "array([[1., 1., 1., 1.],\n",
       "       [2., 2., 2., 2.],\n",
       "       [1., 1., 1., 1.]])"
      ]
     },
     "execution_count": 45,
     "metadata": {},
     "output_type": "execute_result"
    }
   ],
   "source": [
    "data2"
   ]
  },
  {
   "cell_type": "code",
   "execution_count": 46,
   "id": "ba510688-154b-496d-9aad-abc5a5c47361",
   "metadata": {},
   "outputs": [
    {
     "data": {
      "text/plain": [
       "array([[1., 1., 1., 1.],\n",
       "       [1., 1., 1., 1.],\n",
       "       [1., 1., 1., 1.]])"
      ]
     },
     "execution_count": 46,
     "metadata": {},
     "output_type": "execute_result"
    }
   ],
   "source": [
    "data1"
   ]
  },
  {
   "cell_type": "markdown",
   "id": "81ce139f-6056-44fc-a300-d58ebfc5a2cf",
   "metadata": {},
   "source": [
    "#### 创建固定范围的数组"
   ]
  },
  {
   "cell_type": "markdown",
   "id": "97178a85-ce78-469e-9472-8d3f237f84bc",
   "metadata": {},
   "source": [
    "- np.linspace (start, stop, num, endpoint, retstep, dtype)  \n",
    "    - 生成等间隔的序列:\n",
    "        - start 序列的起始值\n",
    "        - stop 序列的终止值，\n",
    "        - 如果endpoint为true，该值包含于序列中\n",
    "        - num 要生成的等间隔样例数量，默认为50\n",
    "        - endpoint 序列中是否包含stop值，默认为ture\n",
    "        - retstep 如果为true，返回样例，\n",
    "        - 以及连续数字之间的步长\n",
    "        - dtype 输出ndarray的数据类型"
   ]
  },
  {
   "cell_type": "code",
   "execution_count": 47,
   "id": "fd982b7a-a988-436b-a6ab-da22008b6b89",
   "metadata": {},
   "outputs": [
    {
     "data": {
      "text/plain": [
       "array([  0.        ,  11.11111111,  22.22222222,  33.33333333,\n",
       "        44.44444444,  55.55555556,  66.66666667,  77.77777778,\n",
       "        88.88888889, 100.        ])"
      ]
     },
     "execution_count": 47,
     "metadata": {},
     "output_type": "execute_result"
    }
   ],
   "source": [
    "# 生成等间隔的数组\n",
    "np.linspace(0,100,10)"
   ]
  },
  {
   "cell_type": "code",
   "execution_count": 48,
   "id": "b52e2e82-c75c-4b7d-ab4f-cfe1af0181af",
   "metadata": {},
   "outputs": [
    {
     "data": {
      "text/plain": [
       "array([10, 12, 14, 16, 18, 20, 22, 24, 26, 28, 30, 32, 34, 36, 38, 40, 42,\n",
       "       44, 46, 48])"
      ]
     },
     "execution_count": 48,
     "metadata": {},
     "output_type": "execute_result"
    }
   ],
   "source": [
    "np.arange(10, 50,2)"
   ]
  },
  {
   "cell_type": "markdown",
   "id": "e80b9123-9ece-43df-a998-74aaceb5b65f",
   "metadata": {},
   "source": [
    "#### 创建随机数组"
   ]
  },
  {
   "cell_type": "markdown",
   "id": "e6d4cc9e-4f92-48b9-82a3-c203ef73601b",
   "metadata": {},
   "source": [
    "- np.random模块\n",
    "    - 均匀分布\n",
    "        - np.random.rand(10)\n",
    "        - np.random.uniform(0,100)\n",
    "        - np.random.randint(100)\n",
    "    - 正态分布？\n",
    "        - 给定均值／标准差／维度的正态分布\n",
    "        - np.random.normal(1.75, 0.2, (3,4))\n",
    "        - np.random.standard_normal(size=(3,4))"
   ]
  },
  {
   "cell_type": "code",
   "execution_count": 51,
   "id": "22da9712-bca6-4660-a739-dac038e61c1b",
   "metadata": {},
   "outputs": [
    {
     "data": {
      "text/plain": [
       "array([0.39635992, 0.90568261, 0.46227633, 0.8875802 , 0.61154571,\n",
       "       0.4491882 , 0.73217821, 0.51657493, 0.64682711, 0.12611997])"
      ]
     },
     "execution_count": 51,
     "metadata": {},
     "output_type": "execute_result"
    }
   ],
   "source": [
    "# 创建均匀分布的数组\n",
    "np.random.rand(10)"
   ]
  },
  {
   "cell_type": "code",
   "execution_count": 52,
   "id": "3de11335-c7dc-4119-b137-f903e323c67e",
   "metadata": {},
   "outputs": [
    {
     "data": {
      "text/plain": [
       "13.74007511767934"
      ]
     },
     "execution_count": 52,
     "metadata": {},
     "output_type": "execute_result"
    }
   ],
   "source": [
    "# 默认范围的一个数\n",
    "np.random.uniform(0, 100)"
   ]
  },
  {
   "cell_type": "code",
   "execution_count": 55,
   "id": "c6cc397e-b55f-4286-b871-1a34f694bb35",
   "metadata": {},
   "outputs": [
    {
     "data": {
      "text/plain": [
       "2"
      ]
     },
     "execution_count": 55,
     "metadata": {},
     "output_type": "execute_result"
    }
   ],
   "source": [
    "# 随机整数\n",
    "np.random.randint(10)"
   ]
  },
  {
   "cell_type": "code",
   "execution_count": 56,
   "id": "37325ca5-2cad-4577-b195-75064300ea68",
   "metadata": {},
   "outputs": [
    {
     "data": {
      "text/plain": [
       "array([[1.8050671 , 1.84578186, 1.69534199, 1.64944851, 1.71580371,\n",
       "        1.68120508, 1.81046045, 1.78103176, 1.4791733 , 1.79090741],\n",
       "       [1.59698528, 1.9381461 , 1.50842393, 1.6722012 , 1.88298593,\n",
       "        1.71393371, 1.68742194, 1.70164052, 1.71623983, 1.82661868],\n",
       "       [1.9294043 , 2.04573811, 1.81347927, 1.85294837, 1.77878555,\n",
       "        1.7329995 , 1.72663375, 1.7195433 , 1.82959724, 1.82647355],\n",
       "       [1.74757742, 1.83584138, 1.80887187, 1.75378246, 1.76176767,\n",
       "        1.71131341, 1.71304941, 1.8276426 , 1.92929743, 1.7009514 ],\n",
       "       [1.81208943, 1.74157828, 1.79253615, 1.7945029 , 1.65174564,\n",
       "        1.71748515, 1.75136488, 1.84649237, 1.91138943, 1.81268892],\n",
       "       [1.69995157, 1.67317896, 1.62052984, 1.92395833, 1.70881367,\n",
       "        1.80112282, 1.77809274, 1.6131398 , 1.62671914, 1.74827635],\n",
       "       [1.64744015, 1.82276256, 1.85506927, 1.68948833, 1.770198  ,\n",
       "        1.66648915, 1.84838257, 1.74134825, 1.86578218, 1.74313565],\n",
       "       [1.83572408, 1.68887018, 1.861819  , 1.62889577, 1.64922637,\n",
       "        1.87923292, 1.86936895, 1.67809594, 1.76545708, 1.73415558],\n",
       "       [1.7698441 , 1.76289948, 1.75753317, 1.64610644, 1.69939927,\n",
       "        1.55619796, 1.84882141, 1.84013097, 1.67425896, 1.76468946],\n",
       "       [1.79323185, 1.69483679, 1.73417415, 1.80124231, 1.68391304,\n",
       "        1.95219895, 1.92530497, 1.72165216, 1.80760148, 1.74350118]])"
      ]
     },
     "execution_count": 56,
     "metadata": {},
     "output_type": "execute_result"
    }
   ],
   "source": [
    "np.random.normal(1.75, 0.1, (10,10))"
   ]
  },
  {
   "cell_type": "code",
   "execution_count": 5,
   "id": "b17abf39-98e7-419b-accb-859337547174",
   "metadata": {},
   "outputs": [],
   "source": [
    "# 一维、二维、三维的数如何索引\n",
    "a1 = np.array([ [[1,2,3], [4,5,6]], [[12,23,44],[22,33,55]]])"
   ]
  },
  {
   "cell_type": "code",
   "execution_count": 7,
   "id": "067da39c-73ac-4338-9b29-d91423773534",
   "metadata": {},
   "outputs": [
    {
     "data": {
      "text/plain": [
       "(2, 2, 3)"
      ]
     },
     "execution_count": 7,
     "metadata": {},
     "output_type": "execute_result"
    }
   ],
   "source": [
    "a1.shape"
   ]
  },
  {
   "cell_type": "code",
   "execution_count": 8,
   "id": "270ad448-8a5b-4c0d-8b86-84fb05c7e3cd",
   "metadata": {},
   "outputs": [
    {
     "data": {
      "text/plain": [
       "2"
      ]
     },
     "execution_count": 8,
     "metadata": {},
     "output_type": "execute_result"
    }
   ],
   "source": [
    "a1[0,0,1]"
   ]
  },
  {
   "cell_type": "code",
   "execution_count": 9,
   "id": "c68e4bcf-405c-4042-bc6b-a4cc178ea32d",
   "metadata": {},
   "outputs": [
    {
     "data": {
      "text/plain": [
       "3"
      ]
     },
     "execution_count": 9,
     "metadata": {},
     "output_type": "execute_result"
    }
   ],
   "source": [
    "a1[0,0,2]"
   ]
  },
  {
   "cell_type": "code",
   "execution_count": 10,
   "id": "5d4d25a2-17f3-4310-bf0c-b8aa46d98fdb",
   "metadata": {},
   "outputs": [
    {
     "data": {
      "text/plain": [
       "12"
      ]
     },
     "execution_count": 10,
     "metadata": {},
     "output_type": "execute_result"
    }
   ],
   "source": [
    "a1[1,0,0]"
   ]
  },
  {
   "cell_type": "markdown",
   "id": "7622367a-47a0-42b2-8309-3a31b2d36a18",
   "metadata": {},
   "source": [
    "## 案例：\n",
    "- 随机生成500个股票两年的交易日涨幅数据\n",
    "> 分析：两年的交易日数量为：2 * 252 = 504， 随机生成涨跌幅度在某个正太分布内，比如均值0，方差1"
   ]
  },
  {
   "cell_type": "code",
   "execution_count": 3,
   "id": "259b522e-faa9-4d49-8211-aa16353eeba3",
   "metadata": {},
   "outputs": [
    {
     "data": {
      "text/plain": [
       "(500, 504)"
      ]
     },
     "execution_count": 3,
     "metadata": {},
     "output_type": "execute_result"
    }
   ],
   "source": [
    "# 创建\n",
    "## 创建一个符合正太分布的500个股票504天的涨跌幅数据\n",
    "\n",
    "stock_day_rise = np.random.normal(0, 1,(500, 504))\n",
    "stock_day_rise.shape"
   ]
  },
  {
   "cell_type": "code",
   "execution_count": 59,
   "id": "0ff8fd5f-4077-470d-bb86-0cf31a7038f4",
   "metadata": {},
   "outputs": [
    {
     "data": {
      "text/plain": [
       "array([-0.59128468,  0.4522241 ,  0.48866824, -1.67667643,  0.20781232,\n",
       "       -0.96133157, -1.92786724, -0.36418634, -0.00959128,  1.48046714,\n",
       "       -1.71904046, -1.20965008,  1.11516094,  0.1612106 ,  0.43357166,\n",
       "       -0.06831531,  0.81257512, -0.85197194, -1.19073386,  0.37426118,\n",
       "       -0.24817782,  1.11967542,  0.22897911, -1.48183319,  0.66593096,\n",
       "       -1.02612607,  0.17689524, -1.48160036,  0.56333534,  1.094517  ,\n",
       "        1.24325781, -0.23795772, -2.44014691,  1.92650763,  0.93061252,\n",
       "       -0.6170886 ,  0.33689681, -0.74344247,  0.84403157,  0.70903439,\n",
       "       -0.70693736, -1.0469708 ,  0.29496321, -0.1203549 ,  0.48110385,\n",
       "        0.96185469,  0.56820369,  1.39827936,  1.04497628,  0.59542682,\n",
       "        1.53137624, -1.50475493,  0.53836189,  0.32717694, -0.4534647 ,\n",
       "       -0.03074589,  0.91391792, -1.1990678 , -1.4538749 ,  0.51472888,\n",
       "        0.96416298, -0.23864701, -0.93747886, -1.40458641, -0.44105172,\n",
       "       -0.87029244,  0.93626528,  0.5554631 , -1.78284096, -0.38662354,\n",
       "        0.07478151, -0.34973795, -0.66182596, -1.02898979, -1.4677665 ,\n",
       "       -0.34594382,  2.49221577, -0.46276507,  1.38500388,  1.49624069,\n",
       "        0.41541003,  0.76006624,  0.15750805,  0.49232783,  0.10953664,\n",
       "       -0.95411808,  1.69660611,  1.00109685,  0.07558071,  0.74580842,\n",
       "        0.19111855,  0.61547693, -0.4657397 ,  1.41768382, -0.71536442,\n",
       "        0.34398584, -0.35175903, -0.89203307,  1.72677434,  1.27263439])"
      ]
     },
     "execution_count": 59,
     "metadata": {},
     "output_type": "execute_result"
    }
   ],
   "source": [
    "# 数组的索引\n",
    "## 获取第一个股票的前100个交易日的涨跌幅数据\n",
    "stock_day_rise[0, 0:100]"
   ]
  },
  {
   "cell_type": "markdown",
   "id": "91496270-fb4b-44c6-8538-abac0db40378",
   "metadata": {
    "jp-MarkdownHeadingCollapsed": true,
    "tags": []
   },
   "source": [
    "### 数组形状和类型的变化"
   ]
  },
  {
   "cell_type": "markdown",
   "id": "387d612c-9f3e-4ab3-9275-d7634065251b",
   "metadata": {},
   "source": [
    "#### 修改形状\n",
    "- ndarray.reshape(shape[, order])\n",
    "- ndarray.resize(new_shape[, refcheck]) \n",
    "- ndarray.flatten([order])"
   ]
  },
  {
   "cell_type": "code",
   "execution_count": 29,
   "id": "8d7d27bd-9717-419a-81df-5b31f3bfd0ef",
   "metadata": {},
   "outputs": [
    {
     "data": {
      "text/plain": [
       "array([[-1.57427057,  0.84343168, -0.1074837 , ...,  2.10320651,\n",
       "        -1.61820899, -1.66675911],\n",
       "       [ 1.04271801,  1.79282697,  1.44123723, ...,  0.08590743,\n",
       "        -0.54347043, -1.01617896],\n",
       "       [-0.73432813,  1.07255323,  1.98956724, ..., -0.31918666,\n",
       "        -1.56672932,  0.99619028],\n",
       "       ...,\n",
       "       [ 0.46754247, -0.50396824,  0.31061901, ..., -0.5407968 ,\n",
       "         0.53771853, -1.25494053],\n",
       "       [-0.41761081,  0.04441197,  0.74132535, ..., -0.38124541,\n",
       "        -0.78700442,  0.33947748],\n",
       "       [-0.94313454,  1.21951443,  1.67768715, ...,  0.39202508,\n",
       "         0.25513915, -0.27360406]])"
      ]
     },
     "execution_count": 29,
     "metadata": {},
     "output_type": "execute_result"
    }
   ],
   "source": [
    "# 让刚才的股票行、日期列反过来，变成日期行，股票列\n",
    "# ndarray.reshape(shape[, order]) Returns an array containing the same data with a new shape.\n",
    "stock_day_rise.reshape([504, 500])  # 在转换形状时，一定要注意数组元素匹配"
   ]
  },
  {
   "cell_type": "code",
   "execution_count": 15,
   "id": "03f3917c-ccbf-4cdd-b0e6-66c61c75b620",
   "metadata": {},
   "outputs": [],
   "source": [
    "# ndarray.resize(new_shape[, refcheck]) Change shape and size of array in-place.\n",
    "stock_day_rise.resize([504, 500])"
   ]
  },
  {
   "cell_type": "code",
   "execution_count": 16,
   "id": "316dfd9f-42e8-4e50-be17-99be9c8db656",
   "metadata": {},
   "outputs": [
    {
     "data": {
      "text/plain": [
       "array([-1.57427057,  0.84343168, -0.1074837 , ...,  0.39202508,\n",
       "        0.25513915, -0.27360406])"
      ]
     },
     "execution_count": 16,
     "metadata": {},
     "output_type": "execute_result"
    }
   ],
   "source": [
    "# ndarray.flatten([order]) Return a copy of the array collapsed into one dimension.\n",
    "stock_day_rise.flatten()"
   ]
  },
  {
   "cell_type": "code",
   "execution_count": 20,
   "id": "7b5dd435-cb3f-4ec3-803e-4829ffa74924",
   "metadata": {},
   "outputs": [
    {
     "data": {
      "text/plain": [
       "(504, 500)"
      ]
     },
     "execution_count": 20,
     "metadata": {},
     "output_type": "execute_result"
    }
   ],
   "source": [
    "stock_day_rise.shape"
   ]
  },
  {
   "cell_type": "markdown",
   "id": "7c3b05f1-2218-4439-a274-92c8dcab0dca",
   "metadata": {},
   "source": [
    "#### 修改类型\n",
    "- ndarray.astype(type)\n"
   ]
  },
  {
   "cell_type": "code",
   "execution_count": 17,
   "id": "9dc76e5c-16d3-4423-9093-0c7b86059f12",
   "metadata": {},
   "outputs": [
    {
     "data": {
      "text/plain": [
       "array([[-1,  0,  0, ...,  2, -1, -1],\n",
       "       [ 1,  1,  1, ...,  0,  0, -1],\n",
       "       [ 0,  1,  1, ...,  0, -1,  0],\n",
       "       ...,\n",
       "       [ 0,  0,  0, ...,  0,  0, -1],\n",
       "       [ 0,  0,  0, ...,  0,  0,  0],\n",
       "       [ 0,  1,  1, ...,  0,  0,  0]], dtype=int32)"
      ]
     },
     "execution_count": 17,
     "metadata": {},
     "output_type": "execute_result"
    }
   ],
   "source": [
    "stock_day_rise.reshape([504, 500]).astype(np.int32)"
   ]
  },
  {
   "cell_type": "code",
   "execution_count": 21,
   "id": "74b27182-9386-4356-bc4b-98657abee672",
   "metadata": {},
   "outputs": [
    {
     "data": {
      "text/plain": [
       "(504, 500)"
      ]
     },
     "execution_count": 21,
     "metadata": {},
     "output_type": "execute_result"
    }
   ],
   "source": [
    "stock_day_rise.shape"
   ]
  },
  {
   "cell_type": "markdown",
   "id": "0438e007-074c-4eaa-965f-834defcb6637",
   "metadata": {},
   "source": [
    "#### 修改小数点维数\n",
    "- ndarray.round(arr, out)"
   ]
  },
  {
   "cell_type": "code",
   "execution_count": 22,
   "id": "0d834172-a114-41a7-bf35-95c9889557c2",
   "metadata": {},
   "outputs": [
    {
     "data": {
      "text/plain": [
       "array([[-1.5743,  0.8434, -0.1075,  1.0727,  0.1537,  1.2697,  1.2261,\n",
       "         0.0635,  1.2991, -1.5755, -0.782 , -0.2482,  0.3956,  0.2664,\n",
       "         0.5139, -0.4963,  0.323 ,  0.9426,  0.4664, -0.926 ],\n",
       "       [ 1.0427,  1.7928,  1.4412, -0.6011, -0.3581, -0.9951,  0.2342,\n",
       "        -0.2067, -0.2568, -0.8126, -0.6707,  2.4387,  1.342 , -1.6434,\n",
       "        -2.15  ,  1.2447, -0.5492,  1.8557, -0.8562,  0.4208]])"
      ]
     },
     "execution_count": 22,
     "metadata": {},
     "output_type": "execute_result"
    }
   ],
   "source": [
    "np.round(stock_day_rise[:2, :20], 4)"
   ]
  },
  {
   "cell_type": "code",
   "execution_count": 23,
   "id": "385ab7e1-1b54-44e1-9e47-e9580b349f14",
   "metadata": {},
   "outputs": [
    {
     "data": {
      "text/plain": [
       "array([[-1.57,  0.84, -0.11,  1.07,  0.15,  1.27,  1.23,  0.06,  1.3 ,\n",
       "        -1.58, -0.78, -0.25,  0.4 ,  0.27,  0.51, -0.5 ,  0.32,  0.94,\n",
       "         0.47, -0.93],\n",
       "       [ 1.04,  1.79,  1.44, -0.6 , -0.36, -1.  ,  0.23, -0.21, -0.26,\n",
       "        -0.81, -0.67,  2.44,  1.34, -1.64, -2.15,  1.24, -0.55,  1.86,\n",
       "        -0.86,  0.42]])"
      ]
     },
     "execution_count": 23,
     "metadata": {},
     "output_type": "execute_result"
    }
   ],
   "source": [
    "np.round(stock_day_rise[:2, :20], 2)"
   ]
  },
  {
   "cell_type": "markdown",
   "id": "25daa922-f5a4-4233-af6b-370ccb1a6f9d",
   "metadata": {},
   "source": [
    "### 数组转换\n",
    "- ndarray.T 数组的转置\n",
    "    - 将数组的行、列进行互换\n",
    "- ndarray.tostring([order])\n",
    "- ndarray.tobytes([order]) \n",
    "- ndarray.copy([order]) "
   ]
  },
  {
   "cell_type": "code",
   "execution_count": 24,
   "id": "cce74b38-3499-4e13-b49a-081b400d738c",
   "metadata": {},
   "outputs": [
    {
     "data": {
      "text/plain": [
       "(504, 500)"
      ]
     },
     "execution_count": 24,
     "metadata": {},
     "output_type": "execute_result"
    }
   ],
   "source": [
    "# 数组转换\n",
    "stock_day_rise.Ashape"
   ]
  },
  {
   "cell_type": "code",
   "execution_count": 25,
   "id": "a8265d31-e600-4409-819d-8a9550cb0117",
   "metadata": {},
   "outputs": [
    {
     "data": {
      "text/plain": [
       "(500, 504)"
      ]
     },
     "execution_count": 25,
     "metadata": {},
     "output_type": "execute_result"
    }
   ],
   "source": [
    "stock_day_rise.T.shape"
   ]
  },
  {
   "cell_type": "code",
   "execution_count": 34,
   "id": "da2a1380-51d6-42e3-b21d-e831bbfc3aee",
   "metadata": {},
   "outputs": [],
   "source": [
    "arr = np.array([ [[1,2,3], [4,5,6]],[[12,3,45], [56,67,78]]])"
   ]
  },
  {
   "cell_type": "code",
   "execution_count": 36,
   "id": "8f730a90-adb4-410d-868c-36a517348bb1",
   "metadata": {},
   "outputs": [],
   "source": [
    "#arr.tobytes()"
   ]
  },
  {
   "cell_type": "code",
   "execution_count": 38,
   "id": "d19f0596-d932-43b0-a29c-6def2d551497",
   "metadata": {},
   "outputs": [],
   "source": [
    "#arr.tostring()"
   ]
  },
  {
   "cell_type": "code",
   "execution_count": 39,
   "id": "b2459ba0-c40d-4af8-89dc-406f8aaa97e1",
   "metadata": {},
   "outputs": [],
   "source": [
    "temp = stock_day_rise[:4, :4].copy()"
   ]
  },
  {
   "cell_type": "code",
   "execution_count": 40,
   "id": "acb4f424-593e-47c1-a6be-d46e49aa7a5e",
   "metadata": {},
   "outputs": [
    {
     "data": {
      "text/plain": [
       "array([[-1.57427057,  0.84343168, -0.1074837 ,  1.07267569],\n",
       "       [ 1.04271801,  1.79282697,  1.44123723, -0.60107412],\n",
       "       [-0.73432813,  1.07255323,  1.98956724,  1.83769374],\n",
       "       [-0.8487911 ,  0.58461115, -0.7667638 , -0.14448295]])"
      ]
     },
     "execution_count": 40,
     "metadata": {},
     "output_type": "execute_result"
    }
   ],
   "source": [
    "temp"
   ]
  },
  {
   "cell_type": "code",
   "execution_count": null,
   "id": "be361732-d4d9-4bfa-9b5d-d2a3f7e0ac6b",
   "metadata": {},
   "outputs": [],
   "source": []
  },
  {
   "cell_type": "markdown",
   "id": "2dcf39e7-de7c-409f-830c-a63d04a90969",
   "metadata": {},
   "source": [
    "## 逻辑运算"
   ]
  },
  {
   "cell_type": "code",
   "execution_count": 44,
   "id": "d568a869-468c-4cb0-8134-ec2dc06cfb6c",
   "metadata": {},
   "outputs": [
    {
     "data": {
      "text/plain": [
       "array([[False,  True, False,  True],\n",
       "       [ True,  True,  True, False],\n",
       "       [False,  True,  True,  True],\n",
       "       [False,  True, False, False]])"
      ]
     },
     "execution_count": 44,
     "metadata": {},
     "output_type": "execute_result"
    }
   ],
   "source": [
    "temp > 0.5"
   ]
  },
  {
   "cell_type": "code",
   "execution_count": 46,
   "id": "4c277629-5b4d-4a09-b937-515073c46a9e",
   "metadata": {},
   "outputs": [
    {
     "data": {
      "text/plain": [
       "array([[-1.57427057,  1.        , -0.1074837 ,  1.        ],\n",
       "       [ 1.        ,  1.        ,  1.        , -0.60107412],\n",
       "       [-0.73432813,  1.        ,  1.        ,  1.        ],\n",
       "       [-0.8487911 ,  1.        , -0.7667638 , -0.14448295]])"
      ]
     },
     "execution_count": 46,
     "metadata": {},
     "output_type": "execute_result"
    }
   ],
   "source": [
    "# 赋值\n",
    "temp[temp > 0.5]  = 1\n",
    "temp"
   ]
  },
  {
   "cell_type": "code",
   "execution_count": null,
   "id": "e22fdf97-025d-4147-8e3b-c8e4423c7d0e",
   "metadata": {},
   "outputs": [],
   "source": []
  },
  {
   "cell_type": "markdown",
   "id": "87e95f53-9597-4281-be64-a37e38fdaddd",
   "metadata": {},
   "source": [
    "### 通用判断函数\n",
    "- np.all()\n",
    "- np.unique()"
   ]
  },
  {
   "cell_type": "code",
   "execution_count": 47,
   "id": "daf6d9e2-6899-4a79-a77a-78f6157c8862",
   "metadata": {},
   "outputs": [
    {
     "data": {
      "text/plain": [
       "False"
      ]
     },
     "execution_count": 47,
     "metadata": {},
     "output_type": "execute_result"
    }
   ],
   "source": [
    "#判断stock_day_rise[0:2,0:5]是否全是上涨的\n",
    "np.all(stock_day_rise[0:2, 0:5] > 0)"
   ]
  },
  {
   "cell_type": "code",
   "execution_count": 48,
   "id": "e3351b10-914c-4b81-aef3-4c13e344b295",
   "metadata": {},
   "outputs": [],
   "source": [
    "change_int = stock_day_rise[0:2,0:5].astype(int)"
   ]
  },
  {
   "cell_type": "code",
   "execution_count": 49,
   "id": "3a3dd15b-9b75-4302-9fab-8eb4ac959e6a",
   "metadata": {},
   "outputs": [
    {
     "data": {
      "text/plain": [
       "array([-1,  0,  1])"
      ]
     },
     "execution_count": 49,
     "metadata": {},
     "output_type": "execute_result"
    }
   ],
   "source": [
    "#将序列中数值值唯一且不重复的值组成新的序列\n",
    "np.unique(change_int)"
   ]
  },
  {
   "cell_type": "code",
   "execution_count": null,
   "id": "7cf65ad6-88a0-4fe9-9552-e96fc001231b",
   "metadata": {},
   "outputs": [],
   "source": []
  },
  {
   "cell_type": "markdown",
   "id": "4f36e5bf-3153-4103-b971-23b2cde55430",
   "metadata": {},
   "source": [
    "### 三元运算符\n",
    "- np.where()"
   ]
  },
  {
   "cell_type": "code",
   "execution_count": 51,
   "id": "23b27c70-70e3-444a-8698-5fc117bae7e6",
   "metadata": {},
   "outputs": [
    {
     "data": {
      "text/plain": [
       "array([[0, 1, 0, 1],\n",
       "       [1, 1, 1, 0],\n",
       "       [0, 1, 1, 1],\n",
       "       [0, 1, 0, 0]])"
      ]
     },
     "execution_count": 51,
     "metadata": {},
     "output_type": "execute_result"
    }
   ],
   "source": [
    "np.where(temp> 0,1, 0)"
   ]
  },
  {
   "cell_type": "code",
   "execution_count": 52,
   "id": "179eb230-d14b-482a-96f3-3c7fd124f847",
   "metadata": {},
   "outputs": [
    {
     "data": {
      "text/plain": [
       "array([[0, 0, 0, 0],\n",
       "       [0, 0, 0, 0],\n",
       "       [0, 0, 0, 0],\n",
       "       [0, 0, 0, 0]])"
      ]
     },
     "execution_count": 52,
     "metadata": {},
     "output_type": "execute_result"
    }
   ],
   "source": [
    "np.where(np.logical_and(temp>0.5, temp< 1),1, 0)"
   ]
  },
  {
   "cell_type": "code",
   "execution_count": 54,
   "id": "68cf723e-647d-4987-b302-f0b29913cdbf",
   "metadata": {},
   "outputs": [
    {
     "data": {
      "text/plain": [
       "array([[1, 1, 0, 1],\n",
       "       [1, 1, 1, 1],\n",
       "       [1, 1, 1, 1],\n",
       "       [1, 1, 1, 0]])"
      ]
     },
     "execution_count": 54,
     "metadata": {},
     "output_type": "execute_result"
    }
   ],
   "source": [
    "np.where(np.logical_or(temp>0.5, temp< -0.5),1, 0)"
   ]
  },
  {
   "cell_type": "code",
   "execution_count": null,
   "id": "0166be20-a220-4cc0-924d-e8c0c0fcfda8",
   "metadata": {},
   "outputs": [],
   "source": []
  },
  {
   "cell_type": "markdown",
   "id": "4214f645-8cc1-43a1-89ba-7803c0e44696",
   "metadata": {},
   "source": [
    "## 统计运算"
   ]
  },
  {
   "cell_type": "markdown",
   "id": "33f41deb-fde1-4202-9737-aa94d7474d6b",
   "metadata": {},
   "source": [
    "### 统计指标\n",
    "- min(a[, axis, out, keepdims])  最小值\n",
    "- max(a[, axis, out, keepdims])   最大值\n",
    "- median(a[, axis, out, overwrite_input, keepdims])   中位数\n",
    "- mean(a[, axis, dtype, out, keepdims])   平均值\n",
    "- std(a[, axis, dtype, out, ddof, keepdims])  标准差\n",
    "- var(a[, axis, dtype, out, ddof, keepdims])  方差"
   ]
  },
  {
   "cell_type": "code",
   "execution_count": 56,
   "id": "3831e90d-6398-4d5a-85c9-c7a5ba3fbb3b",
   "metadata": {},
   "outputs": [
    {
     "data": {
      "text/plain": [
       "array([1., 1., 1., 1.])"
      ]
     },
     "execution_count": 56,
     "metadata": {},
     "output_type": "execute_result"
    }
   ],
   "source": [
    "np.max(temp, axis=1)"
   ]
  },
  {
   "cell_type": "code",
   "execution_count": 57,
   "id": "21594dc1-8da6-41b8-bc6e-e3ff12020a10",
   "metadata": {},
   "outputs": [
    {
     "data": {
      "text/plain": [
       "array([-1.57427057, -0.60107412, -0.73432813, -0.8487911 ])"
      ]
     },
     "execution_count": 57,
     "metadata": {},
     "output_type": "execute_result"
    }
   ],
   "source": [
    "np.min(temp, axis=1)"
   ]
  },
  {
   "cell_type": "code",
   "execution_count": 58,
   "id": "86cf2663-d55a-4546-97e9-f99a3eacf7a5",
   "metadata": {},
   "outputs": [
    {
     "data": {
      "text/plain": [
       "array([1.05647533, 0.69328543, 0.75098611, 0.7390592 ])"
      ]
     },
     "execution_count": 58,
     "metadata": {},
     "output_type": "execute_result"
    }
   ],
   "source": [
    "np.std(temp, axis=1)"
   ]
  },
  {
   "cell_type": "code",
   "execution_count": 59,
   "id": "86520f07-15c9-4343-bf97-b76baa578912",
   "metadata": {},
   "outputs": [
    {
     "data": {
      "text/plain": [
       "array([ 0.07956143,  0.59973147,  0.56641797, -0.19000946])"
      ]
     },
     "execution_count": 59,
     "metadata": {},
     "output_type": "execute_result"
    }
   ],
   "source": [
    "np.mean(temp, axis=1)"
   ]
  },
  {
   "cell_type": "code",
   "execution_count": 60,
   "id": "ab8fe4fa-da91-492b-8ab8-b9d13141869a",
   "metadata": {},
   "outputs": [
    {
     "data": {
      "text/plain": [
       "array([1, 0, 1, 1])"
      ]
     },
     "execution_count": 60,
     "metadata": {},
     "output_type": "execute_result"
    }
   ],
   "source": [
    "np.argmax(temp, axis=1)"
   ]
  },
  {
   "cell_type": "code",
   "execution_count": 61,
   "id": "3bab6570-ff55-4ae0-8601-c7faa6a4267a",
   "metadata": {},
   "outputs": [
    {
     "data": {
      "text/plain": [
       "array([0, 0, 3, 1])"
      ]
     },
     "execution_count": 61,
     "metadata": {},
     "output_type": "execute_result"
    }
   ],
   "source": [
    "np.argmin(temp, axis=0)"
   ]
  },
  {
   "cell_type": "code",
   "execution_count": null,
   "id": "d635b767-a9e1-49f6-bdc7-a0c65bc754e0",
   "metadata": {},
   "outputs": [],
   "source": []
  },
  {
   "cell_type": "markdown",
   "id": "e506a85f-531b-494e-86e0-485099761632",
   "metadata": {},
   "source": [
    "## 数组间运算"
   ]
  },
  {
   "cell_type": "code",
   "execution_count": 62,
   "id": "8afc8195-9542-4058-9026-5730c08f63a4",
   "metadata": {},
   "outputs": [],
   "source": [
    "arr = np.array([[1,2,3,2,1,4], [5,6,1,2,3,1]])"
   ]
  },
  {
   "cell_type": "code",
   "execution_count": 63,
   "id": "80008f8b-6fae-406b-8676-15a61ce5717b",
   "metadata": {},
   "outputs": [
    {
     "data": {
      "text/plain": [
       "array([[2, 3, 4, 3, 2, 5],\n",
       "       [6, 7, 2, 3, 4, 2]])"
      ]
     },
     "execution_count": 63,
     "metadata": {},
     "output_type": "execute_result"
    }
   ],
   "source": [
    "arr + 1"
   ]
  },
  {
   "cell_type": "code",
   "execution_count": 64,
   "id": "7f27dea0-d291-4295-a92e-8bbc481a0d4c",
   "metadata": {},
   "outputs": [
    {
     "data": {
      "text/plain": [
       "array([[0.5, 1. , 1.5, 1. , 0.5, 2. ],\n",
       "       [2.5, 3. , 0.5, 1. , 1.5, 0.5]])"
      ]
     },
     "execution_count": 64,
     "metadata": {},
     "output_type": "execute_result"
    }
   ],
   "source": [
    "arr / 2"
   ]
  },
  {
   "cell_type": "code",
   "execution_count": 65,
   "id": "5da34ec3-78fe-4f5d-b5e3-81767ba7c60a",
   "metadata": {},
   "outputs": [],
   "source": [
    "a = [1,2,3,4,5]"
   ]
  },
  {
   "cell_type": "code",
   "execution_count": 66,
   "id": "ed428ba7-cd72-458c-bd2f-7b85182456bb",
   "metadata": {},
   "outputs": [
    {
     "data": {
      "text/plain": [
       "[1, 2, 3, 4, 5, 1, 2, 3, 4, 5]"
      ]
     },
     "execution_count": 66,
     "metadata": {},
     "output_type": "execute_result"
    }
   ],
   "source": [
    "a * 2"
   ]
  },
  {
   "cell_type": "code",
   "execution_count": 67,
   "id": "e279089f-6797-44c5-99ba-bd9d0150d879",
   "metadata": {},
   "outputs": [
    {
     "data": {
      "text/plain": [
       "[1, 2, 3, 4, 5, 1, 2, 3, 4, 5, 1, 2, 3, 4, 5]"
      ]
     },
     "execution_count": 67,
     "metadata": {},
     "output_type": "execute_result"
    }
   ],
   "source": [
    "a *3"
   ]
  },
  {
   "cell_type": "code",
   "execution_count": null,
   "id": "110033f3-4daa-419f-b9c4-595c11d0a00c",
   "metadata": {},
   "outputs": [],
   "source": []
  },
  {
   "cell_type": "code",
   "execution_count": 68,
   "id": "392008f7-6185-4eb8-9165-221bfd148471",
   "metadata": {},
   "outputs": [],
   "source": [
    "arr1 = np.array([[1,2,3,2,1,4], [5,6,1,2,3,1]])\n",
    "arr2 = np.array([[1, 2, 3, 4], [3, 4, 5, 6]])"
   ]
  },
  {
   "cell_type": "code",
   "execution_count": 70,
   "id": "1fb23419-0f16-43c1-a896-fa34caa05d12",
   "metadata": {},
   "outputs": [],
   "source": [
    "# arr1 + arr2  shape不一致，不能进行运算"
   ]
  },
  {
   "cell_type": "code",
   "execution_count": 71,
   "id": "4af5927a-fe4d-46ed-b520-f32478f7cfd4",
   "metadata": {},
   "outputs": [],
   "source": [
    "arr3 = np.array([[1,2,3,2,1,4], [5,6,1,2,3,1]])\n",
    "arr4 = np.array([[1], [3]])"
   ]
  },
  {
   "cell_type": "code",
   "execution_count": 72,
   "id": "57a8b131-808b-48c3-8237-13c9b92c8ec7",
   "metadata": {},
   "outputs": [
    {
     "data": {
      "text/plain": [
       "array([[2, 3, 4, 3, 2, 5],\n",
       "       [8, 9, 4, 5, 6, 4]])"
      ]
     },
     "execution_count": 72,
     "metadata": {},
     "output_type": "execute_result"
    }
   ],
   "source": [
    "arr3 + arr4"
   ]
  },
  {
   "cell_type": "code",
   "execution_count": null,
   "id": "5a436710-d1ee-45a2-90d5-eb63f779bdd8",
   "metadata": {},
   "outputs": [],
   "source": []
  },
  {
   "cell_type": "code",
   "execution_count": 73,
   "id": "61f20fbc-19d0-486e-982e-5398cc38fd5c",
   "metadata": {},
   "outputs": [],
   "source": [
    "a = np.array([[80,86],\n",
    "[82,80],\n",
    "[85,78],\n",
    "[90,90],\n",
    "[86,82],\n",
    "[82,90],\n",
    "[78,80],\n",
    "[92,94]])"
   ]
  },
  {
   "cell_type": "code",
   "execution_count": 74,
   "id": "d9794682-ed61-431b-9ab8-002a34fcaa66",
   "metadata": {},
   "outputs": [],
   "source": [
    "b = np.array([[0.7],[0.3]])"
   ]
  },
  {
   "cell_type": "markdown",
   "id": "ab9fedc9-c599-49d0-ae46-63fcca2c54fd",
   "metadata": {},
   "source": [
    "### 矩阵类型\n",
    "- np.mat()  # 将数组转换成矩阵类型"
   ]
  },
  {
   "cell_type": "code",
   "execution_count": 75,
   "id": "0f58402c-7cfd-4f8c-801e-edcfd8949ccc",
   "metadata": {},
   "outputs": [
    {
     "data": {
      "text/plain": [
       "matrix([[80, 86],\n",
       "        [82, 80],\n",
       "        [85, 78],\n",
       "        [90, 90],\n",
       "        [86, 82],\n",
       "        [82, 90],\n",
       "        [78, 80],\n",
       "        [92, 94]])"
      ]
     },
     "execution_count": 75,
     "metadata": {},
     "output_type": "execute_result"
    }
   ],
   "source": [
    "np.mat(a)"
   ]
  },
  {
   "cell_type": "markdown",
   "id": "a13446a4-ea13-4c4e-a536-e30fbd00b4b1",
   "metadata": {},
   "source": [
    "### 矩阵乘法运算\n",
    "- mp.matmul"
   ]
  },
  {
   "cell_type": "code",
   "execution_count": 76,
   "id": "2868f85a-e148-4476-ae46-fa0bc6368028",
   "metadata": {},
   "outputs": [
    {
     "data": {
      "text/plain": [
       "array([[81.8],\n",
       "       [81.4],\n",
       "       [82.9],\n",
       "       [90. ],\n",
       "       [84.8],\n",
       "       [84.4],\n",
       "       [78.6],\n",
       "       [92.6]])"
      ]
     },
     "execution_count": 76,
     "metadata": {},
     "output_type": "execute_result"
    }
   ],
   "source": [
    "np.matmul(a, b)"
   ]
  },
  {
   "cell_type": "code",
   "execution_count": null,
   "id": "25b7e568-43ad-4c32-90d0-9f12b463769b",
   "metadata": {},
   "outputs": [],
   "source": []
  },
  {
   "cell_type": "markdown",
   "id": "3b37d3dc-f2d1-4af9-9292-bfd4856ef493",
   "metadata": {},
   "source": [
    "## 合并与分割\n",
    "- 实现数据的切分和合并"
   ]
  },
  {
   "cell_type": "markdown",
   "id": "8f204278-ea06-4b67-9fa5-ae489e9b28d4",
   "metadata": {},
   "source": [
    "### 合并\n",
    "- numpy.concatenate((a1, a2, ...), axis=0)\n",
    "- numpy.hstack(tup) Stack arrays in sequence horizontally (column wise).\n",
    "- numpy.vstack(tup) Stack arrays in sequence vertically (row wise).- "
   ]
  },
  {
   "cell_type": "code",
   "execution_count": 78,
   "id": "0dd7a2f7-a9f8-4956-bbaf-729bf4cdf44b",
   "metadata": {},
   "outputs": [],
   "source": [
    "a = stock_day_rise[:2, 0:4]\n",
    "b = stock_day_rise[10:12, 0:4]"
   ]
  },
  {
   "cell_type": "code",
   "execution_count": 79,
   "id": "e90d245f-3f2a-41b1-98bf-5cae762b6ad0",
   "metadata": {},
   "outputs": [
    {
     "data": {
      "text/plain": [
       "array([[-1.57427057,  0.84343168, -0.1074837 ,  1.07267569],\n",
       "       [ 1.04271801,  1.79282697,  1.44123723, -0.60107412],\n",
       "       [-1.90848575, -0.17153947, -0.65983394, -0.06402084],\n",
       "       [ 0.51883286, -1.18228656, -1.05752403, -0.23585124]])"
      ]
     },
     "execution_count": 79,
     "metadata": {},
     "output_type": "execute_result"
    }
   ],
   "source": [
    "# axis=1时候，按照数组的列方向拼接在一起\n",
    "# axis=0时候，按照数组的行方向拼接在一起\n",
    "np.concatenate([a, b], axis=0)"
   ]
  },
  {
   "cell_type": "code",
   "execution_count": 80,
   "id": "c21228a4-3fdc-408a-8b84-3d0b46ddb4c7",
   "metadata": {},
   "outputs": [
    {
     "data": {
      "text/plain": [
       "array([[-1.57427057,  0.84343168, -0.1074837 ,  1.07267569, -1.90848575,\n",
       "        -0.17153947, -0.65983394, -0.06402084],\n",
       "       [ 1.04271801,  1.79282697,  1.44123723, -0.60107412,  0.51883286,\n",
       "        -1.18228656, -1.05752403, -0.23585124]])"
      ]
     },
     "execution_count": 80,
     "metadata": {},
     "output_type": "execute_result"
    }
   ],
   "source": [
    "np.hstack([a,b])"
   ]
  },
  {
   "cell_type": "code",
   "execution_count": 81,
   "id": "42f2af94-b0e9-4a3f-831a-3bcd709f5f76",
   "metadata": {},
   "outputs": [
    {
     "data": {
      "text/plain": [
       "array([[-1.57427057,  0.84343168, -0.1074837 ,  1.07267569],\n",
       "       [ 1.04271801,  1.79282697,  1.44123723, -0.60107412],\n",
       "       [-1.90848575, -0.17153947, -0.65983394, -0.06402084],\n",
       "       [ 0.51883286, -1.18228656, -1.05752403, -0.23585124]])"
      ]
     },
     "execution_count": 81,
     "metadata": {},
     "output_type": "execute_result"
    }
   ],
   "source": [
    "np.vstack([a,b])"
   ]
  },
  {
   "cell_type": "markdown",
   "id": "f9312ff7-cf35-4911-a23d-37af7d6b5b1d",
   "metadata": {},
   "source": [
    "### 分割\n",
    "- numpy.split(ary, indices_or_sections, axis=0) Split an array into multiple sub-arrays."
   ]
  },
  {
   "cell_type": "code",
   "execution_count": 85,
   "id": "6880304b-304b-41f9-a222-386ac8a2e941",
   "metadata": {},
   "outputs": [
    {
     "data": {
      "text/plain": [
       "[array([[-1.57427057],\n",
       "        [ 1.04271801]]),\n",
       " array([[0.84343168],\n",
       "        [1.79282697]]),\n",
       " array([[-0.1074837 ],\n",
       "        [ 1.44123723]]),\n",
       " array([[ 1.07267569],\n",
       "        [-0.60107412]])]"
      ]
     },
     "execution_count": 85,
     "metadata": {},
     "output_type": "execute_result"
    }
   ],
   "source": [
    "np.split(a, 4 ,axis=1)"
   ]
  },
  {
   "cell_type": "code",
   "execution_count": 89,
   "id": "0f9fbf8b-c53f-4812-b7e2-522fe7a31f8b",
   "metadata": {},
   "outputs": [
    {
     "data": {
      "text/plain": [
       "[array([[-1.90848575],\n",
       "        [ 0.51883286]]),\n",
       " array([[-0.17153947],\n",
       "        [-1.18228656]]),\n",
       " array([[-0.65983394],\n",
       "        [-1.05752403]]),\n",
       " array([[-0.06402084],\n",
       "        [-0.23585124]])]"
      ]
     },
     "execution_count": 89,
     "metadata": {},
     "output_type": "execute_result"
    }
   ],
   "source": [
    "np.split(b, 4 ,axis=1)"
   ]
  },
  {
   "cell_type": "code",
   "execution_count": null,
   "id": "97934ad9-4e86-4533-9faf-48fe9f8cde24",
   "metadata": {},
   "outputs": [],
   "source": []
  },
  {
   "cell_type": "code",
   "execution_count": 90,
   "id": "39afe494-3482-47f0-af51-2b46762b4fff",
   "metadata": {},
   "outputs": [],
   "source": [
    "# 实现sigmoid function, 利用np.exp()\n",
    "import numpy as np\n",
    "def sigmoid(x):\n",
    "    \n",
    "    s = 1.0 / (1 + 1/np.exp(x))\n",
    "    return "
   ]
  },
  {
   "cell_type": "code",
   "execution_count": 92,
   "id": "d1628eff-b912-446f-948f-392dda99de8a",
   "metadata": {},
   "outputs": [],
   "source": [
    "m = np.array([1,2,3])"
   ]
  },
  {
   "cell_type": "code",
   "execution_count": 93,
   "id": "a97e6caa-95b7-4aa8-ad97-c7ed387a2065",
   "metadata": {},
   "outputs": [
    {
     "name": "stdout",
     "output_type": "stream",
     "text": [
      "None\n"
     ]
    }
   ],
   "source": [
    "print(sigmoid(m))"
   ]
  },
  {
   "cell_type": "code",
   "execution_count": null,
   "id": "f6fa2b47-c8ec-4012-b558-a774b2ef6906",
   "metadata": {},
   "outputs": [],
   "source": []
  }
 ],
 "metadata": {
  "kernelspec": {
   "display_name": "Python 3 (ipykernel)",
   "language": "python",
   "name": "python3"
  },
  "language_info": {
   "codemirror_mode": {
    "name": "ipython",
    "version": 3
   },
   "file_extension": ".py",
   "mimetype": "text/x-python",
   "name": "python",
   "nbconvert_exporter": "python",
   "pygments_lexer": "ipython3",
<<<<<<< HEAD
   "version": "3.9.12"
  }
=======
   "version": "3.8.13"
  },
  "toc-autonumbering": true
>>>>>>> 31cb5d170dc13266df0b61c887963c7542a78a7d
 },
 "nbformat": 4,
 "nbformat_minor": 5
}
